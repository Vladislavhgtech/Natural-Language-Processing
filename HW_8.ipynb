{
  "nbformat": 4,
  "nbformat_minor": 0,
  "metadata": {
    "accelerator": "GPU",
    "colab": {
      "name": "hw_08.ipynb",
      "provenance": [],
      "collapsed_sections": []
    },
    "kernelspec": {
      "display_name": "Python 3",
      "language": "python",
      "name": "python3"
    },
    "language_info": {
      "codemirror_mode": {
        "name": "ipython",
        "version": 3
      },
      "file_extension": ".py",
      "mimetype": "text/x-python",
      "name": "python",
      "nbconvert_exporter": "python",
      "pygments_lexer": "ipython3",
      "version": "3.8.8"
    }
  },
  "cells": [
    {
      "cell_type": "code",
      "metadata": {
        "colab": {
          "base_uri": "https://localhost:8080/",
          "height": 17
        },
        "id": "JAFnV_UjZTPT",
        "outputId": "bfec483b-612a-46b6-9a44-2dde9f1c6414"
      },
      "source": [
        "from IPython.core.display import display, HTML, Image\n",
        "display(HTML(\"<style>.container { width:77% !important; }</style>\"))"
      ],
      "execution_count": null,
      "outputs": [
        {
          "output_type": "display_data",
          "data": {
            "text/html": [
              "<style>.container { width:77% !important; }</style>"
            ],
            "text/plain": [
              "<IPython.core.display.HTML object>"
            ]
          },
          "metadata": {
            "tags": []
          }
        }
      ]
    },
    {
      "cell_type": "code",
      "metadata": {
        "id": "DtDZ7JuBVFi6"
      },
      "source": [
        "import warnings\n",
        "warnings.filterwarnings(\"ignore\")"
      ],
      "execution_count": null,
      "outputs": []
    },
    {
      "cell_type": "code",
      "metadata": {
        "id": "f3wgBldxU7Zz"
      },
      "source": [
        "import time\n",
        "\n",
        "import re\n",
        "import numpy as np\n",
        "import pandas as pd\n",
        "import matplotlib.pyplot as plt\n",
        "%matplotlib inline\n",
        "\n",
        "from string import punctuation\n",
        "from stop_words import get_stop_words\n",
        "from pymorphy2 import MorphAnalyzer\n",
        "\n",
        "import nltk\n",
        "from nltk.tokenize import word_tokenize\n",
        "\n",
        "from gensim.models import Word2Vec, FastText\n",
        "\n",
        "from sklearn.svm import LinearSVC\n",
        "from sklearn.model_selection import train_test_split\n",
        "from sklearn import preprocessing, linear_model\n",
        "from sklearn.metrics import accuracy_score\n",
        "from sklearn.feature_extraction.text import CountVectorizer, TfidfVectorizer, HashingVectorizer\n",
        "\n",
        "import tensorflow as tf\n",
        "from tensorflow.keras.models import Sequential\n",
        "# from tensorflow.keras.layers import Conv2D, MaxPool2D, Dense, Flatten, Dropout, AveragePooling2D, Activation, MaxPooling2D, BatchNormalization, Concatenate\n",
        "from tensorflow.keras import layers\n",
        "from tensorflow.keras import utils\n",
        "from tensorflow.keras import models\n",
        "from tensorflow.keras import callbacks"
      ],
      "execution_count": null,
      "outputs": []
    },
    {
      "cell_type": "code",
      "metadata": {
        "colab": {
          "base_uri": "https://localhost:8080/"
        },
        "id": "rusBenAnecx5",
        "outputId": "0f5a7241-eef6-45a7-ab1f-fc67c48c9a3b"
      },
      "source": [
        "nltk.download('punkt')"
      ],
      "execution_count": null,
      "outputs": [
        {
          "output_type": "stream",
          "text": [
            "[nltk_data] Downloading package punkt to\n",
            "[nltk_data]     C:\\Users\\Admin\\AppData\\Roaming\\nltk_data...\n",
            "[nltk_data]   Unzipping tokenizers\\punkt.zip.\n"
          ],
          "name": "stderr"
        },
        {
          "output_type": "execute_result",
          "data": {
            "text/plain": [
              "True"
            ]
          },
          "metadata": {
            "tags": []
          },
          "execution_count": 7
        }
      ]
    },
    {
      "cell_type": "code",
      "metadata": {
        "id": "X3KiW0lAqSQB"
      },
      "source": [
        "plt.rcParams.update({'font.size': 14})\n",
        "pd.set_option('precision', 3)\n",
        "pd.set_option('max_columns', 100)\n",
        "pd.set_option('display.float_format', lambda x: '%.5f' % x)\n",
        "pd.set_option('display.max_columns', 500)\n",
        "pd.set_option('display.max_rows', 500)\n",
        "pd.set_option('max_colwidth', 300)"
      ],
      "execution_count": null,
      "outputs": []
    },
    {
      "cell_type": "code",
      "metadata": {
        "id": "E4Mkp0dtIXFw"
      },
      "source": [
        "def plot_model(history): \n",
        "    fig, axs = plt.subplots(1, 2, figsize=(16, 5)) \n",
        "    # summarize history for accuracy\n",
        "    axs[0].plot(history.history['accuracy'], 'c') \n",
        "    axs[0].plot(history.history['val_accuracy'],'m') \n",
        "    axs[0].set_title('Accuracy of epochs')\n",
        "    axs[0].set_ylabel('Accuracy') \n",
        "    axs[0].set_xlabel('Epochs')\n",
        "    axs[0].legend(['train', 'validate'], loc='upper left')\n",
        "    # summarize history for loss\n",
        "    axs[1].plot(history.history['loss'], 'c') \n",
        "    axs[1].plot(history.history['val_loss'], 'm') \n",
        "    axs[1].set_title('Model Loss')\n",
        "    axs[1].set_ylabel('Loss') \n",
        "    axs[1].set_xlabel('Epochs')\n",
        "    axs[1].legend(['train', 'validate'], loc='upper left')\n",
        "    plt.show()"
      ],
      "execution_count": null,
      "outputs": []
    },
    {
      "cell_type": "code",
      "metadata": {
        "colab": {
          "base_uri": "https://localhost:8080/"
        },
        "id": "_9M2kdxGr7ZC",
        "outputId": "70708708-34e0-477c-e69a-fcd632a949c7"
      },
      "source": [
        "# from google.colab import drive\n",
        "# drive.mount('/content/drive')"
      ],
      "execution_count": null,
      "outputs": [
        {
          "output_type": "stream",
          "text": [
            "Mounted at /content/drive\n"
          ],
          "name": "stdout"
        }
      ]
    },
    {
      "cell_type": "code",
      "metadata": {
        "id": "l787K6shqzs3"
      },
      "source": [
        "df_train = pd.read_csv('./data/train.csv')\n",
        "df_test = pd.read_csv('./data/test.csv')\n",
        "df_val = pd.read_csv('./data/val.csv')"
      ],
      "execution_count": null,
      "outputs": []
    },
    {
      "cell_type": "code",
      "metadata": {
        "colab": {
          "base_uri": "https://localhost:8080/",
          "height": 204
        },
        "id": "jgy70r96rYFE",
        "outputId": "e3f9f26d-76f8-497e-9164-a7014a8a9dd3"
      },
      "source": [
        "df_train.head()"
      ],
      "execution_count": null,
      "outputs": [
        {
          "output_type": "execute_result",
          "data": {
            "text/html": [
              "<div>\n",
              "<style scoped>\n",
              "    .dataframe tbody tr th:only-of-type {\n",
              "        vertical-align: middle;\n",
              "    }\n",
              "\n",
              "    .dataframe tbody tr th {\n",
              "        vertical-align: top;\n",
              "    }\n",
              "\n",
              "    .dataframe thead th {\n",
              "        text-align: right;\n",
              "    }\n",
              "</style>\n",
              "<table border=\"1\" class=\"dataframe\">\n",
              "  <thead>\n",
              "    <tr style=\"text-align: right;\">\n",
              "      <th></th>\n",
              "      <th>id</th>\n",
              "      <th>text</th>\n",
              "      <th>class</th>\n",
              "    </tr>\n",
              "  </thead>\n",
              "  <tbody>\n",
              "    <tr>\n",
              "      <th>0</th>\n",
              "      <td>0</td>\n",
              "      <td>@alisachachka не уезжаааааааай. :(❤ я тоже не хочу, чтобы ты уезжала.</td>\n",
              "      <td>0</td>\n",
              "    </tr>\n",
              "    <tr>\n",
              "      <th>1</th>\n",
              "      <td>1</td>\n",
              "      <td>RT @GalyginVadim: Ребята и девчата!\\r\\nВсе в кино!!! \"Вот Это Любовь!\"\\r\\nСегодня! Завтра!  И потом!)))))\\r\\n#вотэтолюбовь</td>\n",
              "      <td>1</td>\n",
              "    </tr>\n",
              "    <tr>\n",
              "      <th>2</th>\n",
              "      <td>2</td>\n",
              "      <td>RT @ARTEM_KLYUSHIN: Кто ненавидит пробки ретвит((((( RT</td>\n",
              "      <td>0</td>\n",
              "    </tr>\n",
              "    <tr>\n",
              "      <th>3</th>\n",
              "      <td>3</td>\n",
              "      <td>RT @epupybobv: Хочется котлету по-киевски. Запретный плод. :)</td>\n",
              "      <td>1</td>\n",
              "    </tr>\n",
              "    <tr>\n",
              "      <th>4</th>\n",
              "      <td>4</td>\n",
              "      <td>@KarineKurganova @Yess__Boss босапопа есбоса не боится мороза и .......))</td>\n",
              "      <td>1</td>\n",
              "    </tr>\n",
              "  </tbody>\n",
              "</table>\n",
              "</div>"
            ],
            "text/plain": [
              "   id  \\\n",
              "0   0   \n",
              "1   1   \n",
              "2   2   \n",
              "3   3   \n",
              "4   4   \n",
              "\n",
              "                                                                                                                         text  \\\n",
              "0                                                       @alisachachka не уезжаааааааай. :(❤ я тоже не хочу, чтобы ты уезжала.   \n",
              "1  RT @GalyginVadim: Ребята и девчата!\\r\\nВсе в кино!!! \"Вот Это Любовь!\"\\r\\nСегодня! Завтра!  И потом!)))))\\r\\n#вотэтолюбовь   \n",
              "2                                                                     RT @ARTEM_KLYUSHIN: Кто ненавидит пробки ретвит((((( RT   \n",
              "3                                                               RT @epupybobv: Хочется котлету по-киевски. Запретный плод. :)   \n",
              "4                                                   @KarineKurganova @Yess__Boss босапопа есбоса не боится мороза и .......))   \n",
              "\n",
              "   class  \n",
              "0      0  \n",
              "1      1  \n",
              "2      0  \n",
              "3      1  \n",
              "4      1  "
            ]
          },
          "metadata": {
            "tags": []
          },
          "execution_count": 14
        }
      ]
    },
    {
      "cell_type": "code",
      "metadata": {
        "colab": {
          "base_uri": "https://localhost:8080/",
          "height": 204
        },
        "id": "qXKD0fxG3R5C",
        "outputId": "edc2bedc-6c11-4816-dada-94fc852edd74"
      },
      "source": [
        "df_test.head()"
      ],
      "execution_count": null,
      "outputs": [
        {
          "output_type": "execute_result",
          "data": {
            "text/html": [
              "<div>\n",
              "<style scoped>\n",
              "    .dataframe tbody tr th:only-of-type {\n",
              "        vertical-align: middle;\n",
              "    }\n",
              "\n",
              "    .dataframe tbody tr th {\n",
              "        vertical-align: top;\n",
              "    }\n",
              "\n",
              "    .dataframe thead th {\n",
              "        text-align: right;\n",
              "    }\n",
              "</style>\n",
              "<table border=\"1\" class=\"dataframe\">\n",
              "  <thead>\n",
              "    <tr style=\"text-align: right;\">\n",
              "      <th></th>\n",
              "      <th>id</th>\n",
              "      <th>text</th>\n",
              "    </tr>\n",
              "  </thead>\n",
              "  <tbody>\n",
              "    <tr>\n",
              "      <th>0</th>\n",
              "      <td>204150</td>\n",
              "      <td>Тектоника и рельеф-самое ужасное в мире мучение(</td>\n",
              "    </tr>\n",
              "    <tr>\n",
              "      <th>1</th>\n",
              "      <td>204151</td>\n",
              "      <td>Ходили запускать шар желаний, но у нас не получилось(( ну и хрен с ним</td>\n",
              "    </tr>\n",
              "    <tr>\n",
              "      <th>2</th>\n",
              "      <td>204152</td>\n",
              "      <td>Хочу лето только ради того, что бы направить ногти ярким лаком :)</td>\n",
              "    </tr>\n",
              "    <tr>\n",
              "      <th>3</th>\n",
              "      <td>204153</td>\n",
              "      <td>RT @RonyLiss: @colf_ne блин((\\r\\nа я шипперила ФлораБлум\\r\\nИ МузаТекна\\r\\nА Стеллу.. не помню, ахах</td>\n",
              "    </tr>\n",
              "    <tr>\n",
              "      <th>4</th>\n",
              "      <td>204154</td>\n",
              "      <td>RT @anna_romt: @ZADROT_PO_IGRAM блин,каждое воскресенье утром выходит:( а сегодня ..какашка:(просто я иду человека фоткать и мне нужно солн…</td>\n",
              "    </tr>\n",
              "  </tbody>\n",
              "</table>\n",
              "</div>"
            ],
            "text/plain": [
              "       id  \\\n",
              "0  204150   \n",
              "1  204151   \n",
              "2  204152   \n",
              "3  204153   \n",
              "4  204154   \n",
              "\n",
              "                                                                                                                                           text  \n",
              "0                                                                                              Тектоника и рельеф-самое ужасное в мире мучение(  \n",
              "1                                                                        Ходили запускать шар желаний, но у нас не получилось(( ну и хрен с ним  \n",
              "2                                                                             Хочу лето только ради того, что бы направить ногти ярким лаком :)  \n",
              "3                                          RT @RonyLiss: @colf_ne блин((\\r\\nа я шипперила ФлораБлум\\r\\nИ МузаТекна\\r\\nА Стеллу.. не помню, ахах  \n",
              "4  RT @anna_romt: @ZADROT_PO_IGRAM блин,каждое воскресенье утром выходит:( а сегодня ..какашка:(просто я иду человека фоткать и мне нужно солн…  "
            ]
          },
          "metadata": {
            "tags": []
          },
          "execution_count": 15
        }
      ]
    },
    {
      "cell_type": "code",
      "metadata": {
        "colab": {
          "base_uri": "https://localhost:8080/",
          "height": 204
        },
        "id": "uekWFxr63r_9",
        "outputId": "3b59efec-d414-4ac8-d2ac-29a763a8a6de"
      },
      "source": [
        "df_val.head()"
      ],
      "execution_count": null,
      "outputs": [
        {
          "output_type": "execute_result",
          "data": {
            "text/html": [
              "<div>\n",
              "<style scoped>\n",
              "    .dataframe tbody tr th:only-of-type {\n",
              "        vertical-align: middle;\n",
              "    }\n",
              "\n",
              "    .dataframe tbody tr th {\n",
              "        vertical-align: top;\n",
              "    }\n",
              "\n",
              "    .dataframe thead th {\n",
              "        text-align: right;\n",
              "    }\n",
              "</style>\n",
              "<table border=\"1\" class=\"dataframe\">\n",
              "  <thead>\n",
              "    <tr style=\"text-align: right;\">\n",
              "      <th></th>\n",
              "      <th>id</th>\n",
              "      <th>text</th>\n",
              "      <th>class</th>\n",
              "    </tr>\n",
              "  </thead>\n",
              "  <tbody>\n",
              "    <tr>\n",
              "      <th>0</th>\n",
              "      <td>181467</td>\n",
              "      <td>RT @TukvaSociopat: Максимальный репост! ))) #євромайдан http://t.co/wxtQ0xGVtp</td>\n",
              "      <td>1</td>\n",
              "    </tr>\n",
              "    <tr>\n",
              "      <th>1</th>\n",
              "      <td>181468</td>\n",
              "      <td>чтоб у меня з.п. ежегодно индексировали на индекс инфляции, как тарифы на автобусы! :(</td>\n",
              "      <td>0</td>\n",
              "    </tr>\n",
              "    <tr>\n",
              "      <th>2</th>\n",
              "      <td>181469</td>\n",
              "      <td>@chilyandlime нехуя мне не хорошо !!! :((((</td>\n",
              "      <td>0</td>\n",
              "    </tr>\n",
              "    <tr>\n",
              "      <th>3</th>\n",
              "      <td>181470</td>\n",
              "      <td>@inafish нее , когда ногами ахахах когда?ахаха честн не помню , я тебе завтра в шк покажу как меня прикона пиздят ~((((</td>\n",
              "      <td>0</td>\n",
              "    </tr>\n",
              "    <tr>\n",
              "      <th>4</th>\n",
              "      <td>181471</td>\n",
              "      <td>Хочу сделать как лучше,  а получаю как всегда. :(</td>\n",
              "      <td>0</td>\n",
              "    </tr>\n",
              "  </tbody>\n",
              "</table>\n",
              "</div>"
            ],
            "text/plain": [
              "       id  \\\n",
              "0  181467   \n",
              "1  181468   \n",
              "2  181469   \n",
              "3  181470   \n",
              "4  181471   \n",
              "\n",
              "                                                                                                                      text  \\\n",
              "0                                           RT @TukvaSociopat: Максимальный репост! ))) #євромайдан http://t.co/wxtQ0xGVtp   \n",
              "1                                   чтоб у меня з.п. ежегодно индексировали на индекс инфляции, как тарифы на автобусы! :(   \n",
              "2                                                                              @chilyandlime нехуя мне не хорошо !!! :((((   \n",
              "3  @inafish нее , когда ногами ахахах когда?ахаха честн не помню , я тебе завтра в шк покажу как меня прикона пиздят ~((((   \n",
              "4                                                                        Хочу сделать как лучше,  а получаю как всегда. :(   \n",
              "\n",
              "   class  \n",
              "0      1  \n",
              "1      0  \n",
              "2      0  \n",
              "3      0  \n",
              "4      0  "
            ]
          },
          "metadata": {
            "tags": []
          },
          "execution_count": 16
        }
      ]
    },
    {
      "cell_type": "code",
      "metadata": {
        "colab": {
          "base_uri": "https://localhost:8080/",
          "height": 204
        },
        "id": "jiURDC6SrZBo",
        "outputId": "26d31bf4-746b-4c06-cb46-8886c72b1fd2"
      },
      "source": [
        "df_train.tail()"
      ],
      "execution_count": null,
      "outputs": [
        {
          "output_type": "execute_result",
          "data": {
            "text/html": [
              "<div>\n",
              "<style scoped>\n",
              "    .dataframe tbody tr th:only-of-type {\n",
              "        vertical-align: middle;\n",
              "    }\n",
              "\n",
              "    .dataframe tbody tr th {\n",
              "        vertical-align: top;\n",
              "    }\n",
              "\n",
              "    .dataframe thead th {\n",
              "        text-align: right;\n",
              "    }\n",
              "</style>\n",
              "<table border=\"1\" class=\"dataframe\">\n",
              "  <thead>\n",
              "    <tr style=\"text-align: right;\">\n",
              "      <th></th>\n",
              "      <th>id</th>\n",
              "      <th>text</th>\n",
              "      <th>class</th>\n",
              "    </tr>\n",
              "  </thead>\n",
              "  <tbody>\n",
              "    <tr>\n",
              "      <th>181462</th>\n",
              "      <td>181462</td>\n",
              "      <td>Классным будет новый год..( http://t.co/LejaGuXNwu</td>\n",
              "      <td>0</td>\n",
              "    </tr>\n",
              "    <tr>\n",
              "      <th>181463</th>\n",
              "      <td>181463</td>\n",
              "      <td>Видишь человека хочешь сказать ему привет . А он тебя игнорит :(</td>\n",
              "      <td>0</td>\n",
              "    </tr>\n",
              "    <tr>\n",
              "      <th>181464</th>\n",
              "      <td>181464</td>\n",
              "      <td>@Julia6_9Styles там длинный диагноз. Вкратце: аллергический отёк горла с осложнением в виде фолликулярной ангины :(</td>\n",
              "      <td>0</td>\n",
              "    </tr>\n",
              "    <tr>\n",
              "      <th>181465</th>\n",
              "      <td>181465</td>\n",
              "      <td>@technoslav ух ты, а кому тот серенький кнопочне телефон достанется ;)</td>\n",
              "      <td>1</td>\n",
              "    </tr>\n",
              "    <tr>\n",
              "      <th>181466</th>\n",
              "      <td>181466</td>\n",
              "      <td>@Kris1D_07 я тоже так собираюсь сделать:D навешаю фоток вандюх:D \\r\\nобязательно выложи фотку, как нарядишь:3</td>\n",
              "      <td>1</td>\n",
              "    </tr>\n",
              "  </tbody>\n",
              "</table>\n",
              "</div>"
            ],
            "text/plain": [
              "            id  \\\n",
              "181462  181462   \n",
              "181463  181463   \n",
              "181464  181464   \n",
              "181465  181465   \n",
              "181466  181466   \n",
              "\n",
              "                                                                                                                       text  \\\n",
              "181462                                                                   Классным будет новый год..( http://t.co/LejaGuXNwu   \n",
              "181463                                                     Видишь человека хочешь сказать ему привет . А он тебя игнорит :(   \n",
              "181464  @Julia6_9Styles там длинный диагноз. Вкратце: аллергический отёк горла с осложнением в виде фолликулярной ангины :(   \n",
              "181465                                               @technoslav ух ты, а кому тот серенький кнопочне телефон достанется ;)   \n",
              "181466        @Kris1D_07 я тоже так собираюсь сделать:D навешаю фоток вандюх:D \\r\\nобязательно выложи фотку, как нарядишь:3   \n",
              "\n",
              "        class  \n",
              "181462      0  \n",
              "181463      0  \n",
              "181464      0  \n",
              "181465      1  \n",
              "181466      1  "
            ]
          },
          "metadata": {
            "tags": []
          },
          "execution_count": 17
        }
      ]
    },
    {
      "cell_type": "code",
      "metadata": {
        "colab": {
          "base_uri": "https://localhost:8080/",
          "height": 204
        },
        "id": "GhgBe2sf4EGj",
        "outputId": "d98a583c-dd4d-4e87-ff4c-7c67670cd91e"
      },
      "source": [
        "df_test.tail()"
      ],
      "execution_count": null,
      "outputs": [
        {
          "output_type": "execute_result",
          "data": {
            "text/html": [
              "<div>\n",
              "<style scoped>\n",
              "    .dataframe tbody tr th:only-of-type {\n",
              "        vertical-align: middle;\n",
              "    }\n",
              "\n",
              "    .dataframe tbody tr th {\n",
              "        vertical-align: top;\n",
              "    }\n",
              "\n",
              "    .dataframe thead th {\n",
              "        text-align: right;\n",
              "    }\n",
              "</style>\n",
              "<table border=\"1\" class=\"dataframe\">\n",
              "  <thead>\n",
              "    <tr style=\"text-align: right;\">\n",
              "      <th></th>\n",
              "      <th>id</th>\n",
              "      <th>text</th>\n",
              "    </tr>\n",
              "  </thead>\n",
              "  <tbody>\n",
              "    <tr>\n",
              "      <th>22679</th>\n",
              "      <td>226829</td>\n",
              "      <td>RT @NickValuev: Небоскребы, небоскребы, а я маленький такой:) http://t.co/ZJ3H12KPPK</td>\n",
              "    </tr>\n",
              "    <tr>\n",
              "      <th>22680</th>\n",
              "      <td>226830</td>\n",
              "      <td>Первый день в школе в новом году;( 3 человека спросили: все ли у меня в порядке?.. Черный я любою, вот и все</td>\n",
              "    </tr>\n",
              "    <tr>\n",
              "      <th>22681</th>\n",
              "      <td>226831</td>\n",
              "      <td>RT @Killgay_slut: @Your_Novocaine привеееет муда... какой к черту Сэмми? (</td>\n",
              "    </tr>\n",
              "    <tr>\n",
              "      <th>22682</th>\n",
              "      <td>226832</td>\n",
              "      <td>Настроение вроде нормальное, но от чего плакать хочется(</td>\n",
              "    </tr>\n",
              "    <tr>\n",
              "      <th>22683</th>\n",
              "      <td>226833</td>\n",
              "      <td>зашла перед сном к девчонкам)пока они мыли посуду,Настя фоткалась) http://t.co/kiNexuDTuh</td>\n",
              "    </tr>\n",
              "  </tbody>\n",
              "</table>\n",
              "</div>"
            ],
            "text/plain": [
              "           id  \\\n",
              "22679  226829   \n",
              "22680  226830   \n",
              "22681  226831   \n",
              "22682  226832   \n",
              "22683  226833   \n",
              "\n",
              "                                                                                                               text  \n",
              "22679                          RT @NickValuev: Небоскребы, небоскребы, а я маленький такой:) http://t.co/ZJ3H12KPPK  \n",
              "22680  Первый день в школе в новом году;( 3 человека спросили: все ли у меня в порядке?.. Черный я любою, вот и все  \n",
              "22681                                    RT @Killgay_slut: @Your_Novocaine привеееет муда... какой к черту Сэмми? (  \n",
              "22682                                                      Настроение вроде нормальное, но от чего плакать хочется(  \n",
              "22683                     зашла перед сном к девчонкам)пока они мыли посуду,Настя фоткалась) http://t.co/kiNexuDTuh  "
            ]
          },
          "metadata": {
            "tags": []
          },
          "execution_count": 18
        }
      ]
    },
    {
      "cell_type": "code",
      "metadata": {
        "colab": {
          "base_uri": "https://localhost:8080/",
          "height": 204
        },
        "id": "oPR_mbc94Ev0",
        "outputId": "e5118a41-1c63-4b56-adcc-e827895606b1"
      },
      "source": [
        "df_val.tail()"
      ],
      "execution_count": null,
      "outputs": [
        {
          "output_type": "execute_result",
          "data": {
            "text/html": [
              "<div>\n",
              "<style scoped>\n",
              "    .dataframe tbody tr th:only-of-type {\n",
              "        vertical-align: middle;\n",
              "    }\n",
              "\n",
              "    .dataframe tbody tr th {\n",
              "        vertical-align: top;\n",
              "    }\n",
              "\n",
              "    .dataframe thead th {\n",
              "        text-align: right;\n",
              "    }\n",
              "</style>\n",
              "<table border=\"1\" class=\"dataframe\">\n",
              "  <thead>\n",
              "    <tr style=\"text-align: right;\">\n",
              "      <th></th>\n",
              "      <th>id</th>\n",
              "      <th>text</th>\n",
              "      <th>class</th>\n",
              "    </tr>\n",
              "  </thead>\n",
              "  <tbody>\n",
              "    <tr>\n",
              "      <th>22678</th>\n",
              "      <td>204145</td>\n",
              "      <td>А я знаю из-за кого такая паршивая погода была сегодня)))</td>\n",
              "      <td>1</td>\n",
              "    </tr>\n",
              "    <tr>\n",
              "      <th>22679</th>\n",
              "      <td>204146</td>\n",
              "      <td>ааа.... что с Гмейлом. не ужто он умер сегодня :( именно в тот день когда мне надо сдавать журнал в печать</td>\n",
              "      <td>0</td>\n",
              "    </tr>\n",
              "    <tr>\n",
              "      <th>22680</th>\n",
              "      <td>204147</td>\n",
              "      <td>в учебники химии написано \"Пруст Жозеф Луи\"\\r\\nя явно подумала не о том Жозефе и не о том Луи:DD</td>\n",
              "      <td>1</td>\n",
              "    </tr>\n",
              "    <tr>\n",
              "      <th>22681</th>\n",
              "      <td>204148</td>\n",
              "      <td>Вот все любят,а я не люблю..как дура..говорю,что люблю..а сама..(</td>\n",
              "      <td>0</td>\n",
              "    </tr>\n",
              "    <tr>\n",
              "      <th>22682</th>\n",
              "      <td>204149</td>\n",
              "      <td>уххх спасибо дорогой Леле Евгеньевне и Штепуху за сегодняшний все было очень круто ,ну как обычно )))) нас даже научили как готовить бутеры</td>\n",
              "      <td>1</td>\n",
              "    </tr>\n",
              "  </tbody>\n",
              "</table>\n",
              "</div>"
            ],
            "text/plain": [
              "           id  \\\n",
              "22678  204145   \n",
              "22679  204146   \n",
              "22680  204147   \n",
              "22681  204148   \n",
              "22682  204149   \n",
              "\n",
              "                                                                                                                                              text  \\\n",
              "22678                                                                                    А я знаю из-за кого такая паршивая погода была сегодня)))   \n",
              "22679                                   ааа.... что с Гмейлом. не ужто он умер сегодня :( именно в тот день когда мне надо сдавать журнал в печать   \n",
              "22680                                             в учебники химии написано \"Пруст Жозеф Луи\"\\r\\nя явно подумала не о том Жозефе и не о том Луи:DD   \n",
              "22681                                                                            Вот все любят,а я не люблю..как дура..говорю,что люблю..а сама..(   \n",
              "22682  уххх спасибо дорогой Леле Евгеньевне и Штепуху за сегодняшний все было очень круто ,ну как обычно )))) нас даже научили как готовить бутеры   \n",
              "\n",
              "       class  \n",
              "22678      1  \n",
              "22679      0  \n",
              "22680      1  \n",
              "22681      0  \n",
              "22682      1  "
            ]
          },
          "metadata": {
            "tags": []
          },
          "execution_count": 19
        }
      ]
    },
    {
      "cell_type": "code",
      "metadata": {
        "colab": {
          "base_uri": "https://localhost:8080/"
        },
        "id": "nV8HJfC_rfdR",
        "outputId": "142586f6-93c0-4946-8af5-0b2ad9a8df93"
      },
      "source": [
        "print(df_train.shape, df_test.shape, df_val.shape)"
      ],
      "execution_count": null,
      "outputs": [
        {
          "output_type": "stream",
          "text": [
            "(181467, 3) (22684, 2) (22683, 3)\n"
          ],
          "name": "stdout"
        }
      ]
    },
    {
      "cell_type": "code",
      "metadata": {
        "colab": {
          "base_uri": "https://localhost:8080/"
        },
        "id": "DV7mX8C3fDpd",
        "outputId": "32917deb-3a37-487e-c950-e79389c5dfa1"
      },
      "source": [
        "df_train.info()"
      ],
      "execution_count": null,
      "outputs": [
        {
          "output_type": "stream",
          "text": [
            "<class 'pandas.core.frame.DataFrame'>\n",
            "RangeIndex: 181467 entries, 0 to 181466\n",
            "Data columns (total 3 columns):\n",
            " #   Column  Non-Null Count   Dtype \n",
            "---  ------  --------------   ----- \n",
            " 0   id      181467 non-null  int64 \n",
            " 1   text    181467 non-null  object\n",
            " 2   class   181467 non-null  int64 \n",
            "dtypes: int64(2), object(1)\n",
            "memory usage: 4.2+ MB\n"
          ],
          "name": "stdout"
        }
      ]
    },
    {
      "cell_type": "code",
      "metadata": {
        "colab": {
          "base_uri": "https://localhost:8080/"
        },
        "id": "7-J0eqf7e87l",
        "outputId": "65ce62eb-5278-41f2-b4e2-8b0014c15530"
      },
      "source": [
        "df_train.isnull().sum()"
      ],
      "execution_count": null,
      "outputs": [
        {
          "output_type": "execute_result",
          "data": {
            "text/plain": [
              "id       0\n",
              "text     0\n",
              "class    0\n",
              "dtype: int64"
            ]
          },
          "metadata": {
            "tags": []
          },
          "execution_count": 22
        }
      ]
    },
    {
      "cell_type": "code",
      "metadata": {
        "colab": {
          "base_uri": "https://localhost:8080/"
        },
        "id": "r59KCqx-3hJC",
        "outputId": "badcbc7c-b752-4aac-a774-b82ab5225ed0"
      },
      "source": [
        "df_test.isnull().sum()"
      ],
      "execution_count": null,
      "outputs": [
        {
          "output_type": "execute_result",
          "data": {
            "text/plain": [
              "id      0\n",
              "text    0\n",
              "dtype: int64"
            ]
          },
          "metadata": {
            "tags": []
          },
          "execution_count": 23
        }
      ]
    },
    {
      "cell_type": "code",
      "metadata": {
        "colab": {
          "base_uri": "https://localhost:8080/"
        },
        "id": "oxaPCXqe3jVG",
        "outputId": "e22a4a18-087d-4d31-a9e7-46d6f8d75863"
      },
      "source": [
        "df_val.isnull().sum()"
      ],
      "execution_count": null,
      "outputs": [
        {
          "output_type": "execute_result",
          "data": {
            "text/plain": [
              "id       0\n",
              "text     0\n",
              "class    0\n",
              "dtype: int64"
            ]
          },
          "metadata": {
            "tags": []
          },
          "execution_count": 24
        }
      ]
    },
    {
      "cell_type": "markdown",
      "metadata": {
        "id": "jXuCJqqH_vO9"
      },
      "source": [
        "### Предобработка"
      ]
    },
    {
      "cell_type": "code",
      "metadata": {
        "id": "MPiThFwD-YqH"
      },
      "source": [
        "sw = set(get_stop_words('ru'))\n",
        "exclude = set(punctuation)\n",
        "morpher = MorphAnalyzer()"
      ],
      "execution_count": null,
      "outputs": []
    },
    {
      "cell_type": "code",
      "metadata": {
        "id": "799ZNgan_4vt"
      },
      "source": [
        "def preprocess_reviews(reviews):\n",
        "    reviews = str(reviews)\n",
        "    reviews = ''.join(c for c in reviews if c not in exclude)\n",
        "    reviews = reviews.lower()\n",
        "    reviews = re.sub(\"\\sне\", \"не\", reviews)\n",
        "    reviews = [morpher.parse(word)[0].normal_form for word in reviews.split() if word not in sw]\n",
        "    return \" \".join(reviews)"
      ],
      "execution_count": null,
      "outputs": []
    },
    {
      "cell_type": "code",
      "metadata": {
        "id": "t5Ydgk2fCiQd"
      },
      "source": [
        "df_train['text'] = df_train['text'].apply(preprocess_reviews)\n",
        "df_test['text'] = df_test['text'].apply(preprocess_reviews)\n",
        "df_val['text'] = df_val['text'].apply(preprocess_reviews)"
      ],
      "execution_count": null,
      "outputs": []
    },
    {
      "cell_type": "code",
      "metadata": {
        "colab": {
          "base_uri": "https://localhost:8080/",
          "height": 142
        },
        "id": "g15tEuvMcLta",
        "outputId": "bc62dac8-fc33-4940-b1b0-8275abf6d213"
      },
      "source": [
        "df_train.head(3)"
      ],
      "execution_count": null,
      "outputs": [
        {
          "output_type": "execute_result",
          "data": {
            "text/html": [
              "<div>\n",
              "<style scoped>\n",
              "    .dataframe tbody tr th:only-of-type {\n",
              "        vertical-align: middle;\n",
              "    }\n",
              "\n",
              "    .dataframe tbody tr th {\n",
              "        vertical-align: top;\n",
              "    }\n",
              "\n",
              "    .dataframe thead th {\n",
              "        text-align: right;\n",
              "    }\n",
              "</style>\n",
              "<table border=\"1\" class=\"dataframe\">\n",
              "  <thead>\n",
              "    <tr style=\"text-align: right;\">\n",
              "      <th></th>\n",
              "      <th>id</th>\n",
              "      <th>text</th>\n",
              "      <th>class</th>\n",
              "    </tr>\n",
              "  </thead>\n",
              "  <tbody>\n",
              "    <tr>\n",
              "      <th>0</th>\n",
              "      <td>0</td>\n",
              "      <td>alisachachkaич уезжаааааааать ❤ тожена хотеть уезжать</td>\n",
              "      <td>0</td>\n",
              "    </tr>\n",
              "    <tr>\n",
              "      <th>1</th>\n",
              "      <td>1</td>\n",
              "      <td>rt galyginvadim ребята девчата кино любовь завтра вотэтолюбовь</td>\n",
              "      <td>1</td>\n",
              "    </tr>\n",
              "    <tr>\n",
              "      <th>2</th>\n",
              "      <td>2</td>\n",
              "      <td>rt artemklyushin ктоненавидеть пробка ретвит rt</td>\n",
              "      <td>0</td>\n",
              "    </tr>\n",
              "  </tbody>\n",
              "</table>\n",
              "</div>"
            ],
            "text/plain": [
              "   id                                                            text  class\n",
              "0   0           alisachachkaич уезжаааааааать ❤ тожена хотеть уезжать      0\n",
              "1   1  rt galyginvadim ребята девчата кино любовь завтра вотэтолюбовь      1\n",
              "2   2                 rt artemklyushin ктоненавидеть пробка ретвит rt      0"
            ]
          },
          "metadata": {
            "tags": []
          },
          "execution_count": 28
        }
      ]
    },
    {
      "cell_type": "code",
      "metadata": {
        "colab": {
          "base_uri": "https://localhost:8080/",
          "height": 142
        },
        "id": "Z7LZNhkOF-no",
        "outputId": "62b80ceb-3cad-43c3-bc24-917504f16170"
      },
      "source": [
        "df_test.head(3)"
      ],
      "execution_count": null,
      "outputs": [
        {
          "output_type": "execute_result",
          "data": {
            "text/html": [
              "<div>\n",
              "<style scoped>\n",
              "    .dataframe tbody tr th:only-of-type {\n",
              "        vertical-align: middle;\n",
              "    }\n",
              "\n",
              "    .dataframe tbody tr th {\n",
              "        vertical-align: top;\n",
              "    }\n",
              "\n",
              "    .dataframe thead th {\n",
              "        text-align: right;\n",
              "    }\n",
              "</style>\n",
              "<table border=\"1\" class=\"dataframe\">\n",
              "  <thead>\n",
              "    <tr style=\"text-align: right;\">\n",
              "      <th></th>\n",
              "      <th>id</th>\n",
              "      <th>text</th>\n",
              "    </tr>\n",
              "  </thead>\n",
              "  <tbody>\n",
              "    <tr>\n",
              "      <th>0</th>\n",
              "      <td>204150</td>\n",
              "      <td>тектоника рельефсамый ужасный мир мучение</td>\n",
              "    </tr>\n",
              "    <tr>\n",
              "      <th>1</th>\n",
              "      <td>204151</td>\n",
              "      <td>ходить запускать шар желание насна получиться хрен они</td>\n",
              "    </tr>\n",
              "    <tr>\n",
              "      <th>2</th>\n",
              "      <td>204152</td>\n",
              "      <td>хотеть лето ради направить ноготь яркий лак</td>\n",
              "    </tr>\n",
              "  </tbody>\n",
              "</table>\n",
              "</div>"
            ],
            "text/plain": [
              "       id                                                    text\n",
              "0  204150               тектоника рельефсамый ужасный мир мучение\n",
              "1  204151  ходить запускать шар желание насна получиться хрен они\n",
              "2  204152             хотеть лето ради направить ноготь яркий лак"
            ]
          },
          "metadata": {
            "tags": []
          },
          "execution_count": 29
        }
      ]
    },
    {
      "cell_type": "code",
      "metadata": {
        "colab": {
          "base_uri": "https://localhost:8080/",
          "height": 142
        },
        "id": "tc12XH3CF59S",
        "outputId": "fb9e6511-085c-46fa-f036-1bf3f25baf88"
      },
      "source": [
        "df_val.head(3)"
      ],
      "execution_count": null,
      "outputs": [
        {
          "output_type": "execute_result",
          "data": {
            "text/html": [
              "<div>\n",
              "<style scoped>\n",
              "    .dataframe tbody tr th:only-of-type {\n",
              "        vertical-align: middle;\n",
              "    }\n",
              "\n",
              "    .dataframe tbody tr th {\n",
              "        vertical-align: top;\n",
              "    }\n",
              "\n",
              "    .dataframe thead th {\n",
              "        text-align: right;\n",
              "    }\n",
              "</style>\n",
              "<table border=\"1\" class=\"dataframe\">\n",
              "  <thead>\n",
              "    <tr style=\"text-align: right;\">\n",
              "      <th></th>\n",
              "      <th>id</th>\n",
              "      <th>text</th>\n",
              "      <th>class</th>\n",
              "    </tr>\n",
              "  </thead>\n",
              "  <tbody>\n",
              "    <tr>\n",
              "      <th>0</th>\n",
              "      <td>181467</td>\n",
              "      <td>rt tukvasociopat максимальный репост євромайдан httptcowxtq0xgvtp</td>\n",
              "      <td>1</td>\n",
              "    </tr>\n",
              "    <tr>\n",
              "      <th>1</th>\n",
              "      <td>181468</td>\n",
              "      <td>зп ежегодно индексировать индекс инфляция тариф автобус</td>\n",
              "      <td>0</td>\n",
              "    </tr>\n",
              "    <tr>\n",
              "      <th>2</th>\n",
              "      <td>181469</td>\n",
              "      <td>chilyandlimeнеховать мнен</td>\n",
              "      <td>0</td>\n",
              "    </tr>\n",
              "  </tbody>\n",
              "</table>\n",
              "</div>"
            ],
            "text/plain": [
              "       id                                                               text  \\\n",
              "0  181467  rt tukvasociopat максимальный репост євромайдан httptcowxtq0xgvtp   \n",
              "1  181468            зп ежегодно индексировать индекс инфляция тариф автобус   \n",
              "2  181469                                          chilyandlimeнеховать мнен   \n",
              "\n",
              "   class  \n",
              "0      1  \n",
              "1      0  \n",
              "2      0  "
            ]
          },
          "metadata": {
            "tags": []
          },
          "execution_count": 30
        }
      ]
    },
    {
      "cell_type": "markdown",
      "metadata": {
        "id": "-tWF7WDABh50"
      },
      "source": [
        "### 0. Baseline"
      ]
    },
    {
      "cell_type": "code",
      "metadata": {
        "id": "9OLtBVETMlwh"
      },
      "source": [
        "X_train = df_train['text']\n",
        "y_train = df_train['class']\n",
        "X_test = df_val['text']\n",
        "y_test = df_val['class']"
      ],
      "execution_count": null,
      "outputs": []
    },
    {
      "cell_type": "code",
      "metadata": {
        "id": "F972PzpLBmcx"
      },
      "source": [
        "models = []\n",
        "\n",
        "models.append(('CountVectorizer_LR', CountVectorizer()))\n",
        "models.append(('TfidfVectorizer_LR', TfidfVectorizer()))\n",
        "models.append(('HashingVectorizer_LR', HashingVectorizer()))"
      ],
      "execution_count": null,
      "outputs": []
    },
    {
      "cell_type": "code",
      "metadata": {
        "id": "HBjhW5f2G7c5"
      },
      "source": [
        "# Logistic Regression\n",
        "start_time = time.time()\n",
        "classifier = linear_model.LogisticRegression()\n",
        "\n",
        "results = []\n",
        "\n",
        "for name, model in models:\n",
        "    model.fit(X_train)\n",
        "    X_train_count = model.transform(X_train)\n",
        "    X_test_count = model.transform(X_test)\n",
        "    \n",
        "    classifier.fit(X_train_count, y_train)\n",
        "    predictions_train = classifier.predict(X_train_count)\n",
        "    predictions_test = classifier.predict(X_test_count)\n",
        "    \n",
        "    train_accuracy = accuracy_score(y_train, predictions_train)\n",
        "    test_accuracy = accuracy_score(y_test, predictions_test)\n",
        "\n",
        "    results.append((name, train_accuracy, test_accuracy))\n",
        "    \n",
        "baseline_lr = pd.DataFrame(results, columns = ['model', 'train_accuracy', 'test_accuracy'])\n",
        "baseline_lr.sort_values('test_accuracy', ascending=False)\n",
        "lr_time = (time.time() - start_time)"
      ],
      "execution_count": null,
      "outputs": []
    },
    {
      "cell_type": "code",
      "metadata": {
        "colab": {
          "base_uri": "https://localhost:8080/"
        },
        "id": "EJ1E-sSpAZKA",
        "outputId": "9b15dfd7-700d-4632-eeec-c75bdfc3bbfd"
      },
      "source": [
        "lr_time"
      ],
      "execution_count": null,
      "outputs": [
        {
          "output_type": "execute_result",
          "data": {
            "text/plain": [
              "73.10478639602661"
            ]
          },
          "metadata": {
            "tags": []
          },
          "execution_count": 35
        }
      ]
    },
    {
      "cell_type": "code",
      "metadata": {
        "id": "FT0lJe9BA1bW"
      },
      "source": [
        "models = []\n",
        "\n",
        "models.append(('CountVectorizer_LSVC', CountVectorizer()))\n",
        "models.append(('TfidfVectorizer_LSVC', TfidfVectorizer()))\n",
        "models.append(('HashingVectorizer_LSVC', HashingVectorizer()))"
      ],
      "execution_count": null,
      "outputs": []
    },
    {
      "cell_type": "code",
      "metadata": {
        "id": "cvuEVoz9RINg"
      },
      "source": [
        "# LinearSVC\n",
        "start_time = time.time()\n",
        "classifier = LinearSVC()\n",
        "\n",
        "results = []\n",
        "\n",
        "for name, model in models:\n",
        "    model.fit(X_train)\n",
        "    X_train_count = model.transform(X_train)\n",
        "    X_test_count = model.transform(X_test)\n",
        "    \n",
        "    classifier.fit(X_train_count, y_train)\n",
        "    predictions_train = classifier.predict(X_train_count)\n",
        "    predictions_test = classifier.predict(X_test_count)\n",
        "    \n",
        "    train_accuracy = accuracy_score(y_train, predictions_train)\n",
        "    test_accuracy = accuracy_score(y_test, predictions_test)\n",
        "\n",
        "    results.append((name, train_accuracy, test_accuracy))\n",
        "    \n",
        "baseline_lsvc = pd.DataFrame(results, columns = ['model', 'train_accuracy', 'test_accuracy'])\n",
        "baseline_lsvc.sort_values('test_accuracy', ascending=False)\n",
        "lsvc_time = (time.time() - start_time)"
      ],
      "execution_count": null,
      "outputs": []
    },
    {
      "cell_type": "code",
      "metadata": {
        "colab": {
          "base_uri": "https://localhost:8080/"
        },
        "id": "TMbbIIgJDaS5",
        "outputId": "fa239878-0fdd-47f1-bb56-e8ae23c5fcf7"
      },
      "source": [
        "lsvc_time"
      ],
      "execution_count": null,
      "outputs": [
        {
          "output_type": "execute_result",
          "data": {
            "text/plain": [
              "76.34100270271301"
            ]
          },
          "metadata": {
            "tags": []
          },
          "execution_count": 38
        }
      ]
    },
    {
      "cell_type": "markdown",
      "metadata": {
        "id": "ldPJGJlpnrwe"
      },
      "source": [
        "### Word Embeddings"
      ]
    },
    {
      "cell_type": "code",
      "metadata": {
        "id": "E3T8eNiSIG17"
      },
      "source": [
        "text_corpus_train = df_train['text'].values\n",
        "text_corpus_valid = df_val['text'].values\n",
        "text_corpus_test = df_test['text'].values"
      ],
      "execution_count": null,
      "outputs": []
    },
    {
      "cell_type": "code",
      "metadata": {
        "id": "5GeDNPRuYkmX"
      },
      "source": [
        "# !pip install keras"
      ],
      "execution_count": null,
      "outputs": []
    },
    {
      "cell_type": "code",
      "metadata": {
        "id": "WQbXSpS2ZGEn"
      },
      "source": [
        "from keras.preprocessing.text import Tokenizer\n",
        "from keras.preprocessing.sequence import pad_sequences"
      ],
      "execution_count": null,
      "outputs": []
    },
    {
      "cell_type": "code",
      "metadata": {
        "id": "FZLqaB_AYvoj"
      },
      "source": [
        "tokenizer = Tokenizer(num_words=None, \n",
        "                     filters='#$%&()*+-<=>@[\\\\]^_`{|}~\\t\\n',\n",
        "                     lower = False, split = ' ')\n",
        "tokenizer.fit_on_texts(text_corpus_train)\n",
        "\n",
        "sequences_train = tokenizer.texts_to_sequences(text_corpus_train)\n",
        "sequences_val = tokenizer.texts_to_sequences(text_corpus_valid)\n",
        "sequences_test = tokenizer.texts_to_sequences(text_corpus_test)\n",
        "\n",
        "word_count = len(tokenizer.index_word) + 1 # Adding 1 because of reserved 0 index\n",
        "training_length = max([len(i.split()) for i in text_corpus_train])\n",
        "\n",
        "X_train = pad_sequences(sequences_train, maxlen=training_length)\n",
        "X_valid = pad_sequences(sequences_val, maxlen=training_length)"
      ],
      "execution_count": null,
      "outputs": []
    },
    {
      "cell_type": "code",
      "metadata": {
        "id": "jO-oIFQTZOh6"
      },
      "source": [
        "y_train = df_train['class'].values\n",
        "y_val = df_val['class'].values"
      ],
      "execution_count": null,
      "outputs": []
    },
    {
      "cell_type": "markdown",
      "metadata": {
        "id": "B07MLBaFXn-6"
      },
      "source": [
        "### Simple model"
      ]
    },
    {
      "cell_type": "code",
      "metadata": {
        "id": "yIL34vZpxZFd"
      },
      "source": [
        "# Training\n",
        "epochs = 5\n",
        "batch_size = 64"
      ],
      "execution_count": null,
      "outputs": []
    },
    {
      "cell_type": "code",
      "metadata": {
        "id": "SGY7la4toJe_"
      },
      "source": [
        "input_dim = X_train.shape[1]  # Number of features"
      ],
      "execution_count": null,
      "outputs": []
    },
    {
      "cell_type": "code",
      "metadata": {
        "id": "ybS3dxjgoJjU"
      },
      "source": [
        "model_1 = Sequential([\n",
        "    layers.Dense(10, input_dim=input_dim, activation='relu'),\n",
        "    layers.Dense(1, activation='sigmoid')\n",
        "])"
      ],
      "execution_count": null,
      "outputs": []
    },
    {
      "cell_type": "code",
      "metadata": {
        "id": "526-cnusoJmV"
      },
      "source": [
        "model_1.compile(optimizer='adam',\n",
        "                     loss='binary_crossentropy',\n",
        "                     metrics=['accuracy'])"
      ],
      "execution_count": null,
      "outputs": []
    },
    {
      "cell_type": "code",
      "metadata": {
        "colab": {
          "base_uri": "https://localhost:8080/"
        },
        "id": "lz-unWxQoJpL",
        "outputId": "f6e78d2f-c8e8-456c-d4bb-192b1d16f55d"
      },
      "source": [
        "start_time = time.time()\n",
        "history_1 = model_1.fit(X_train, y_train, batch_size=batch_size, epochs=epochs, validation_data=(X_valid, y_val))\n",
        "model_time1 = (time.time() - start_time)"
      ],
      "execution_count": null,
      "outputs": [
        {
          "output_type": "stream",
          "text": [
            "Epoch 1/5\n",
            "2836/2836 [==============================] - 4s 1ms/step - loss: 1141.3226 - accuracy: 0.5191 - val_loss: 23.5357 - val_accuracy: 0.5048\n",
            "Epoch 2/5\n",
            "2836/2836 [==============================] - 3s 1ms/step - loss: 38.6418 - accuracy: 0.5266 - val_loss: 17.2565 - val_accuracy: 0.5247\n",
            "Epoch 3/5\n",
            "2836/2836 [==============================] - 3s 1ms/step - loss: 28.7925 - accuracy: 0.5316 - val_loss: 11.6986 - val_accuracy: 0.5085\n",
            "Epoch 4/5\n",
            "2836/2836 [==============================] - 3s 1ms/step - loss: 26.1498 - accuracy: 0.5324 - val_loss: 15.2582 - val_accuracy: 0.5134\n",
            "Epoch 5/5\n",
            "2836/2836 [==============================] - 3s 1ms/step - loss: 24.2645 - accuracy: 0.5317 - val_loss: 10.5240 - val_accuracy: 0.5209\n"
          ],
          "name": "stdout"
        }
      ]
    },
    {
      "cell_type": "code",
      "metadata": {
        "colab": {
          "base_uri": "https://localhost:8080/"
        },
        "id": "yl6Mr5NJoJr7",
        "outputId": "34ff4708-da1f-496d-aebe-4dba05a3558e"
      },
      "source": [
        "model_time1"
      ],
      "execution_count": null,
      "outputs": [
        {
          "output_type": "execute_result",
          "data": {
            "text/plain": [
              "18.435710430145264"
            ]
          },
          "metadata": {
            "tags": []
          },
          "execution_count": 52
        }
      ]
    },
    {
      "cell_type": "code",
      "metadata": {
        "id": "FnmzrKsctsG5"
      },
      "source": [
        "score_train1 = model_1.evaluate(X_train, y_train, verbose=0)\n",
        "score_test1 = model_1.evaluate(X_valid, y_val, verbose=0)"
      ],
      "execution_count": null,
      "outputs": []
    },
    {
      "cell_type": "code",
      "metadata": {
        "colab": {
          "base_uri": "https://localhost:8080/"
        },
        "id": "tKxYKJpAtsG6",
        "outputId": "ba43992e-8028-40a8-d79e-6abceba6dfa4"
      },
      "source": [
        "print('Train loss:', score_train1[0])\n",
        "print('Train accuracy:', score_train1[1])\n",
        "print('Test loss:', score_test1[0])\n",
        "print('Test accuracy:', score_test1[1])"
      ],
      "execution_count": null,
      "outputs": [
        {
          "output_type": "stream",
          "text": [
            "Train loss: 25.365217208862305\n",
            "Train accuracy: 0.5335901379585266\n",
            "Test loss: 10.523981094360352\n",
            "Test accuracy: 0.5209187269210815\n"
          ],
          "name": "stdout"
        }
      ]
    },
    {
      "cell_type": "code",
      "metadata": {
        "colab": {
          "base_uri": "https://localhost:8080/",
          "height": 362
        },
        "id": "5kT3FZcTohZy",
        "outputId": "9ea743f6-41a3-4dc3-8a4c-e08c515004c3"
      },
      "source": [
        "plot_model(history_1)"
      ],
      "execution_count": null,
      "outputs": [
        {
          "output_type": "display_data",
          "data": {
            "image/png": "[encoded data removed]",
            "text/plain": [
              "<Figure size 1152x360 with 2 Axes>"
            ]
          },
          "metadata": {
            "tags": [],
            "needs_background": "light"
          }
        }
      ]
    },
    {
      "cell_type": "code",
      "metadata": {
        "id": "7YbqmWdHYkmZ"
      },
      "source": [
        "result_1 = pd.DataFrame((score_train1[1], score_test1[1], score_train1[0], score_test1[0])).T\n",
        "result_1.columns=['train_accuracy', 'test_accuracy', 'train_loss', 'test_loss']\n",
        "result_1['model'] = 'Simple model'"
      ],
      "execution_count": null,
      "outputs": []
    },
    {
      "cell_type": "markdown",
      "metadata": {
        "id": "kvRsf_rZvexe"
      },
      "source": [
        "### Embedding Layer"
      ]
    },
    {
      "cell_type": "code",
      "metadata": {
        "id": "vjLmjEMPv1NO"
      },
      "source": [
        "embedding_dim = 50"
      ],
      "execution_count": null,
      "outputs": []
    },
    {
      "cell_type": "code",
      "metadata": {
        "id": "q-ca4dX3vo9y"
      },
      "source": [
        "model_2 = Sequential([\n",
        "    layers.Embedding(input_dim=word_count, output_dim=embedding_dim, input_length=training_length),\n",
        "    layers.Flatten(),\n",
        "    layers.Dense(10, activation='relu'),\n",
        "    layers.Dense(1, activation='sigmoid')\n",
        "])"
      ],
      "execution_count": null,
      "outputs": []
    },
    {
      "cell_type": "code",
      "metadata": {
        "id": "8ZqEYjfcvo90"
      },
      "source": [
        "model_2.compile(optimizer='adam',\n",
        "                     loss='binary_crossentropy',\n",
        "                     metrics=['accuracy'])"
      ],
      "execution_count": null,
      "outputs": []
    },
    {
      "cell_type": "code",
      "metadata": {
        "colab": {
          "base_uri": "https://localhost:8080/"
        },
        "id": "7vWguG3lvo90",
        "outputId": "2f19d473-59db-4017-99c9-07c41daad349"
      },
      "source": [
        "start_time = time.time()\n",
        "history_2 = model_2.fit(X_train, y_train, batch_size=batch_size, epochs=epochs, validation_data=(X_valid, y_val))\n",
        "model_time2 = (time.time() - start_time)"
      ],
      "execution_count": null,
      "outputs": [
        {
          "output_type": "stream",
          "text": [
            "Epoch 1/5\n",
            "2836/2836 [==============================] - 542s 191ms/step - loss: 0.5191 - accuracy: 0.7320 - val_loss: 0.5031 - val_accuracy: 0.7473\n",
            "Epoch 2/5\n",
            "2836/2836 [==============================] - 509s 180ms/step - loss: 0.2036 - accuracy: 0.9201 - val_loss: 0.6186 - val_accuracy: 0.7305\n",
            "Epoch 3/5\n",
            "2836/2836 [==============================] - 531s 187ms/step - loss: 0.0530 - accuracy: 0.9811 - val_loss: 0.8441 - val_accuracy: 0.7163\n",
            "Epoch 4/5\n",
            "2836/2836 [==============================] - 573s 202ms/step - loss: 0.0246 - accuracy: 0.9913 - val_loss: 1.0246 - val_accuracy: 0.7104\n",
            "Epoch 5/5\n",
            "2836/2836 [==============================] - 506s 179ms/step - loss: 0.0152 - accuracy: 0.9947 - val_loss: 1.0196 - val_accuracy: 0.7063\n"
          ],
          "name": "stdout"
        }
      ]
    },
    {
      "cell_type": "code",
      "metadata": {
        "id": "aBLj0avmvo91",
        "outputId": "8ccee062-09fd-438b-8a38-5f8ea480fa79"
      },
      "source": [
        "model_time2"
      ],
      "execution_count": null,
      "outputs": [
        {
          "output_type": "execute_result",
          "data": {
            "text/plain": [
              "2662.739295721054"
            ]
          },
          "metadata": {
            "tags": []
          },
          "execution_count": 61
        }
      ]
    },
    {
      "cell_type": "code",
      "metadata": {
        "id": "VRdotQyYvo91"
      },
      "source": [
        "score_train2 = model_2.evaluate(X_train, y_train, verbose=0)\n",
        "score_test2 = model_2.evaluate(X_valid, y_val, verbose=0)"
      ],
      "execution_count": null,
      "outputs": []
    },
    {
      "cell_type": "code",
      "metadata": {
        "id": "5HaPq9mCvo92",
        "outputId": "189725c2-d941-4a07-b035-591901843e78"
      },
      "source": [
        "print('Train loss:', score_train2[0])\n",
        "print('Train accuracy:', score_train2[1])\n",
        "print('Test loss:', score_test2[0])\n",
        "print('Test accuracy:', score_test2[1])"
      ],
      "execution_count": null,
      "outputs": [
        {
          "output_type": "stream",
          "text": [
            "Train loss: 0.008388591930270195\n",
            "Train accuracy: 0.9978508353233337\n",
            "Test loss: 1.01956307888031\n",
            "Test accuracy: 0.706299901008606\n"
          ],
          "name": "stdout"
        }
      ]
    },
    {
      "cell_type": "code",
      "metadata": {
        "id": "Q4LXuObBYkmb"
      },
      "source": [
        "result_2 = pd.DataFrame((score_train2[1], score_test2[1], score_train2[0], score_test2[0])).T\n",
        "result_2.columns=['train_accuracy', 'test_accuracy', 'train_loss', 'test_loss']\n",
        "result_2['model'] = 'Embedding Layer'"
      ],
      "execution_count": null,
      "outputs": []
    },
    {
      "cell_type": "markdown",
      "metadata": {
        "id": "z8uWEZ1SxuGG"
      },
      "source": [
        "### Add GlobalMaxPool1D"
      ]
    },
    {
      "cell_type": "code",
      "metadata": {
        "id": "97fl3PNexzDg"
      },
      "source": [
        "model_3 = Sequential([\n",
        "    layers.Embedding(input_dim=word_count, output_dim=embedding_dim, input_length=training_length),\n",
        "    layers.GlobalMaxPool1D(),\n",
        "    layers.Dense(10, activation='relu'),\n",
        "    layers.Dense(1, activation='sigmoid')\n",
        "])"
      ],
      "execution_count": null,
      "outputs": []
    },
    {
      "cell_type": "code",
      "metadata": {
        "id": "I3K9GleSxzDg"
      },
      "source": [
        "model_3.compile(optimizer='adam',\n",
        "                     loss='binary_crossentropy',\n",
        "                     metrics=['accuracy'])"
      ],
      "execution_count": null,
      "outputs": []
    },
    {
      "cell_type": "code",
      "metadata": {
        "id": "BmjmU4tdxzDh",
        "outputId": "679a03a6-4af1-4481-9221-0e8174a003c1"
      },
      "source": [
        "start_time = time.time()\n",
        "history_3 = model_2.fit(X_train, y_train, batch_size=batch_size, epochs=epochs, validation_data=(X_valid, y_val))\n",
        "model_time3 = (time.time() - start_time)"
      ],
      "execution_count": null,
      "outputs": [
        {
          "output_type": "stream",
          "text": [
            "Epoch 1/5\n",
            "2836/2836 [==============================] - 541s 191ms/step - loss: 0.0099 - accuracy: 0.9965 - val_loss: 1.3138 - val_accuracy: 0.7061\n",
            "Epoch 2/5\n",
            "2836/2836 [==============================] - 719s 254ms/step - loss: 0.0067 - accuracy: 0.9978 - val_loss: 1.3168 - val_accuracy: 0.7013\n",
            "Epoch 3/5\n",
            "2836/2836 [==============================] - 1009s 356ms/step - loss: 0.0047 - accuracy: 0.9985 - val_loss: 1.7325 - val_accuracy: 0.7023\n",
            "Epoch 4/5\n",
            "2836/2836 [==============================] - 562s 198ms/step - loss: 0.0034 - accuracy: 0.9988 - val_loss: 1.6327 - val_accuracy: 0.6955\n",
            "Epoch 5/5\n",
            "2836/2836 [==============================] - 537s 189ms/step - loss: 0.0026 - accuracy: 0.9991 - val_loss: 1.9597 - val_accuracy: 0.6956\n"
          ],
          "name": "stdout"
        }
      ]
    },
    {
      "cell_type": "code",
      "metadata": {
        "id": "GTZCR0scxzDi",
        "outputId": "f23d4d75-7cb6-451c-b475-527ffa3f8b21"
      },
      "source": [
        "model_time3"
      ],
      "execution_count": null,
      "outputs": [
        {
          "output_type": "execute_result",
          "data": {
            "text/plain": [
              "3369.310691356659"
            ]
          },
          "metadata": {
            "tags": []
          },
          "execution_count": 69
        }
      ]
    },
    {
      "cell_type": "code",
      "metadata": {
        "id": "NrlkyDBwxzDj"
      },
      "source": [
        "score_train3 = model_3.evaluate(X_train, y_train, verbose=0)\n",
        "score_test3 = model_3.evaluate(X_valid, y_val, verbose=0)"
      ],
      "execution_count": null,
      "outputs": []
    },
    {
      "cell_type": "code",
      "metadata": {
        "id": "Rlw7TXZwxzDj",
        "outputId": "cf7f98cc-b7f7-40c7-9915-aa0b3c5de0ac"
      },
      "source": [
        "print('Train loss:', score_train3[0])\n",
        "print('Train accuracy:', score_train3[1])\n",
        "print('Test loss:', score_test3[0])\n",
        "print('Test accuracy:', score_test3[1])"
      ],
      "execution_count": null,
      "outputs": [
        {
          "output_type": "stream",
          "text": [
            "Train loss: 0.6937695145606995\n",
            "Train accuracy: 0.4886728823184967\n",
            "Test loss: 0.6935820579528809\n",
            "Test accuracy: 0.4912489652633667\n"
          ],
          "name": "stdout"
        }
      ]
    },
    {
      "cell_type": "code",
      "metadata": {
        "id": "ebYTndm7Ykmd"
      },
      "source": [
        "result_3 = pd.DataFrame((score_train3[1], score_test3[1], score_train3[0], score_test3[0])).T\n",
        "result_3.columns=['train_accuracy', 'test_accuracy', 'train_loss', 'test_loss']\n",
        "result_3['model'] = 'Add GlobalMaxPool1D'"
      ],
      "execution_count": null,
      "outputs": []
    },
    {
      "cell_type": "markdown",
      "metadata": {
        "id": "0Hpc2rV05AF_"
      },
      "source": [
        "### Convolutional Neural Networks (CNN)"
      ]
    },
    {
      "cell_type": "code",
      "metadata": {
        "id": "9cQCYeGI630M"
      },
      "source": [
        "embedding_dim = 100"
      ],
      "execution_count": null,
      "outputs": []
    },
    {
      "cell_type": "code",
      "metadata": {
        "id": "9x8SRUlp5AGD"
      },
      "source": [
        "model_4 = Sequential([\n",
        "    layers.Embedding(input_dim=word_count, output_dim=embedding_dim, input_length=training_length),\n",
        "    layers.Conv1D(128, 5, activation='relu'),\n",
        "    layers.GlobalMaxPool1D(),\n",
        "    layers.Dense(10, activation='relu'),\n",
        "    layers.Dense(1, activation='sigmoid')\n",
        "])"
      ],
      "execution_count": null,
      "outputs": []
    },
    {
      "cell_type": "code",
      "metadata": {
        "id": "egn5shq55AGF"
      },
      "source": [
        "model_4.compile(optimizer='adam',\n",
        "                     loss='binary_crossentropy',\n",
        "                     metrics=['accuracy'])"
      ],
      "execution_count": null,
      "outputs": []
    },
    {
      "cell_type": "code",
      "metadata": {
        "id": "6zok19tZ5AGG"
      },
      "source": [
        "start_time = time.time()\n",
        "history_4 = model_4.fit(X_train, y_train, batch_size=batch_size, epochs=epochs, validation_data=(X_valid, y_val))\n",
        "model_time4 = (time.time() - start_time)"
      ],
      "execution_count": null,
      "outputs": []
    },
    {
      "cell_type": "code",
      "metadata": {
        "id": "NDZRreJC5AGH"
      },
      "source": [
        "model_time4"
      ],
      "execution_count": null,
      "outputs": []
    },
    {
      "cell_type": "code",
      "metadata": {
        "id": "dn__icmZ5AGH"
      },
      "source": [
        "score_train4 = model_4.evaluate(X_train, y_train, verbose=0)\n",
        "score_test4 = model_4.evaluate(X_valid, y_val, verbose=0)"
      ],
      "execution_count": null,
      "outputs": []
    },
    {
      "cell_type": "code",
      "metadata": {
        "id": "A3hHyGO15AGI"
      },
      "source": [
        "print('Train loss:', score_train3[0])\n",
        "print('Train accuracy:', score_train3[1])\n",
        "print('Test loss:', score_test3[0])\n",
        "print('Test accuracy:', score_test3[1])"
      ],
      "execution_count": null,
      "outputs": []
    },
    {
      "cell_type": "code",
      "metadata": {
        "id": "ntwCBN-X5AGK"
      },
      "source": [
        "plot_model(history_4)"
      ],
      "execution_count": null,
      "outputs": []
    },
    {
      "cell_type": "code",
      "metadata": {
        "id": "o0LUViV0Ykmf"
      },
      "source": [
        "result_4 = pd.DataFrame((score_train4[1], score_test4[1], score_train4[0], score_test4[0])).T\n",
        "result_4.columns=['train_accuracy', 'test_accuracy', 'train_loss', 'test_loss']\n",
        "result_4['model'] = 'CNN'"
      ],
      "execution_count": null,
      "outputs": []
    },
    {
      "cell_type": "markdown",
      "metadata": {
        "id": "hVkXeHoiIxuR"
      },
      "source": [
        "### Add Dropout"
      ]
    },
    {
      "cell_type": "code",
      "metadata": {
        "id": "OxLSzVg_IBHh"
      },
      "source": [
        "model_5 = Sequential([\n",
        "    layers.Embedding(input_dim=word_count, output_dim=embedding_dim, input_length=training_length),\n",
        "    layers.Dropout(0.2),\n",
        "    layers.Conv1D(128, 5, activation='relu'),\n",
        "    layers.GlobalMaxPool1D(),\n",
        "    layers.Dense(10, activation='relu'),\n",
        "    layers.Dropout(0.2),\n",
        "    layers.Dense(1, activation='sigmoid')\n",
        "])"
      ],
      "execution_count": null,
      "outputs": []
    },
    {
      "cell_type": "code",
      "metadata": {
        "id": "DvI5JYOVIBHi"
      },
      "source": [
        "model_5.compile(optimizer='adam',\n",
        "                     loss='binary_crossentropy',\n",
        "                     metrics=['accuracy'])"
      ],
      "execution_count": null,
      "outputs": []
    },
    {
      "cell_type": "code",
      "metadata": {
        "id": "putSSunJIBHj"
      },
      "source": [
        "start_time = time.time()\n",
        "history_5 = model_5.fit(X_train, y_train, batch_size=batch_size, epochs=epochs, validation_data=(X_valid, y_val))\n",
        "model_time5 = (time.time() - start_time)"
      ],
      "execution_count": null,
      "outputs": []
    },
    {
      "cell_type": "code",
      "metadata": {
        "id": "ibM7D5J9IBHk"
      },
      "source": [
        "model_time5"
      ],
      "execution_count": null,
      "outputs": []
    },
    {
      "cell_type": "code",
      "metadata": {
        "id": "QsUSG7YvIBHl"
      },
      "source": [
        "score_train5 = model_5.evaluate(X_train, y_train, verbose=0)\n",
        "score_test5 = model_5.evaluate(X_valid, y_val, verbose=0)"
      ],
      "execution_count": null,
      "outputs": []
    },
    {
      "cell_type": "code",
      "metadata": {
        "id": "MNz0ZGvCIBHm"
      },
      "source": [
        "print('Train loss:', score_train3[0])\n",
        "print('Train accuracy:', score_train3[1])\n",
        "print('Test loss:', score_test3[0])\n",
        "print('Test accuracy:', score_test3[1])"
      ],
      "execution_count": null,
      "outputs": []
    },
    {
      "cell_type": "code",
      "metadata": {
        "id": "rsjn7T_sIBHo"
      },
      "source": [
        "plot_model(history_5)"
      ],
      "execution_count": null,
      "outputs": []
    },
    {
      "cell_type": "code",
      "metadata": {
        "id": "kYu3D5B8Ykmg"
      },
      "source": [
        "result_5 = pd.DataFrame((score_train5[1], score_test5[1], score_train5[0], score_test5[0])).T\n",
        "result_5.columns=['train_accuracy', 'test_accuracy', 'train_loss', 'test_loss']\n",
        "result_5['model'] = 'Add Dropout'"
      ],
      "execution_count": null,
      "outputs": []
    },
    {
      "cell_type": "markdown",
      "metadata": {
        "id": "lPDaMnaLJFci"
      },
      "source": [
        "### CNN + LSTM"
      ]
    },
    {
      "cell_type": "code",
      "metadata": {
        "id": "tZ57s6L5JKEz"
      },
      "source": [
        "model_6 = Sequential([\n",
        "    layers.Embedding(input_dim=word_count, output_dim=embedding_dim, input_length=training_length),\n",
        "    layers.Dropout(0.2),\n",
        "    layers.Conv1D(128, 5, activation='relu'),\n",
        "    layers.GlobalMaxPool1D(),\n",
        "    layers.LSTM(64),\n",
        "    layers.Dense(10, activation='relu'),\n",
        "    layers.Dropout(0.2),\n",
        "    layers.Dense(1, activation='sigmoid')\n",
        "])"
      ],
      "execution_count": null,
      "outputs": []
    },
    {
      "cell_type": "code",
      "metadata": {
        "id": "edtTpDLDJKE0"
      },
      "source": [
        "model_6.compile(optimizer='adam',\n",
        "                     loss='binary_crossentropy',\n",
        "                     metrics=['accuracy'])"
      ],
      "execution_count": null,
      "outputs": []
    },
    {
      "cell_type": "code",
      "metadata": {
        "id": "821q6K53JKE1"
      },
      "source": [
        "start_time = time.time()\n",
        "history_6 = model_6.fit(X_train, y_train, batch_size=batch_size, epochs=epochs, validation_data=(X_valid, y_val))\n",
        "model_time6 = (time.time() - start_time)"
      ],
      "execution_count": null,
      "outputs": []
    },
    {
      "cell_type": "code",
      "metadata": {
        "id": "2upevqm0JKE1"
      },
      "source": [
        "model_time6"
      ],
      "execution_count": null,
      "outputs": []
    },
    {
      "cell_type": "code",
      "metadata": {
        "id": "PPF8utPwJKE2"
      },
      "source": [
        "score_train6 = model_6.evaluate(X_train, y_train, verbose=0)\n",
        "score_test6 = model_6.evaluate(X_valid, y_val, verbose=0)"
      ],
      "execution_count": null,
      "outputs": []
    },
    {
      "cell_type": "code",
      "metadata": {
        "id": "ijnAUUkVJKE2"
      },
      "source": [
        "print('Train loss:', score_train6[0])\n",
        "print('Train accuracy:', score_train6[1])\n",
        "print('Test loss:', score_test6[0])\n",
        "print('Test accuracy:', score_test6[1])"
      ],
      "execution_count": null,
      "outputs": []
    },
    {
      "cell_type": "code",
      "metadata": {
        "id": "1q3Gioo6JKE4"
      },
      "source": [
        "plot_model(history_6)"
      ],
      "execution_count": null,
      "outputs": []
    },
    {
      "cell_type": "code",
      "metadata": {
        "id": "KWLvNTCcXX5S"
      },
      "source": [
        "result_6 = pd.DataFrame((score_train6[1], score_test6[1], score_train6[0], score_test6[0])).T\n",
        "result_6.columns=['train_accuracy', 'test_accuracy', 'train_loss', 'test_loss']\n",
        "result_6['model'] = 'CNN + LSTM'"
      ],
      "execution_count": null,
      "outputs": []
    },
    {
      "cell_type": "markdown",
      "metadata": {
        "id": "CKLcoH3fKJUS"
      },
      "source": [
        "### GRU + CNN"
      ]
    },
    {
      "cell_type": "code",
      "metadata": {
        "id": "UibwMaBkKJUT"
      },
      "source": [
        "model_7 = Sequential([\n",
        "    layers.Embedding(input_dim=word_count, output_dim=embedding_dim, input_length=training_length),\n",
        "    layers.Dropout(0.2),\n",
        "    layers.Bidirectional(units = 128, return_sequences = TRUE),\n",
        "    layers.Conv1D(128, 5, activation='relu'),\n",
        "    layers.GlobalMaxPool1D(),\n",
        "    layers.Dense(10, activation='relu'),\n",
        "    layers.Dropout(0.2),\n",
        "    layers.Dense(1, activation='sigmoid')\n",
        "])"
      ],
      "execution_count": null,
      "outputs": []
    },
    {
      "cell_type": "code",
      "metadata": {
        "id": "UfudEe9PKJUT"
      },
      "source": [
        "model_7.compile(optimizer='adam',\n",
        "                     loss='binary_crossentropy',\n",
        "                     metrics=['accuracy'])"
      ],
      "execution_count": null,
      "outputs": []
    },
    {
      "cell_type": "code",
      "metadata": {
        "id": "hMCZYczVKJUU"
      },
      "source": [
        "start_time = time.time()\n",
        "history_7 = model_7.fit(X_train, y_train, batch_size=batch_size, epochs=epochs, validation_data=(X_valid, y_val))\n",
        "model_time7 = (time.time() - start_time)"
      ],
      "execution_count": null,
      "outputs": []
    },
    {
      "cell_type": "code",
      "metadata": {
        "id": "TP4hyKU-KJUV"
      },
      "source": [
        "model_time7"
      ],
      "execution_count": null,
      "outputs": []
    },
    {
      "cell_type": "code",
      "metadata": {
        "id": "4ZP5qV5UKJUW"
      },
      "source": [
        "score_train7 = model_7.evaluate(X_train, y_train, verbose=0)\n",
        "score_test7 = model_7.evaluate(X_valid, y_val, verbose=0)"
      ],
      "execution_count": null,
      "outputs": []
    },
    {
      "cell_type": "code",
      "metadata": {
        "id": "wHBEjFydKJUW"
      },
      "source": [
        "print('Train loss:', score_train7[0])\n",
        "print('Train accuracy:', score_train7[1])\n",
        "print('Test loss:', score_test7[0])\n",
        "print('Test accuracy:', score_test7[1])"
      ],
      "execution_count": null,
      "outputs": []
    },
    {
      "cell_type": "code",
      "metadata": {
        "id": "sDwrINRaKJUZ"
      },
      "source": [
        "plot_model(history_7)"
      ],
      "execution_count": null,
      "outputs": []
    },
    {
      "cell_type": "code",
      "metadata": {
        "id": "jrH9Wa8F29Zb"
      },
      "source": [
        "result_7 = pd.DataFrame((score_train7[1], score_test7[1], score_train7[0], score_test7[0])).T\n",
        "result_7.columns=['train_accuracy', 'test_accuracy', 'train_loss', 'test_loss']\n",
        "result_7['model'] = 'GRU + CNN'"
      ],
      "execution_count": null,
      "outputs": []
    },
    {
      "cell_type": "markdown",
      "metadata": {
        "id": "Q_LxO1XS2t6W"
      },
      "source": [
        "### Results"
      ]
    },
    {
      "cell_type": "code",
      "metadata": {
        "id": "_rajPRoIfv_f"
      },
      "source": [
        "final_results = pd.concat([baseline_lr, baseline_lsvc, result_1, result_2, result_3, result_4, result_5, result_6, result_7], axis=0)"
      ],
      "execution_count": null,
      "outputs": []
    },
    {
      "cell_type": "code",
      "metadata": {
        "id": "ykqnotaEnzfI"
      },
      "source": [
        "final_results.sort_values('test_accuracy', ascending=False)"
      ],
      "execution_count": null,
      "outputs": []
    },
    {
      "cell_type": "code",
      "metadata": {
        "id": "CFb420MhYkmj"
      },
      "source": [
        "time_results = pd.concat([lr_time, lsvc_time, model_time1, model_time2, model_time3, model_time4, model_time5, model_time6, model_time7], axis=0)"
      ],
      "execution_count": null,
      "outputs": []
    },
    {
      "cell_type": "code",
      "metadata": {
        "id": "ZlBo7vmHYkmj"
      },
      "source": [
        "time_results #.sort_values('test_accuracy', ascending=False)"
      ],
      "execution_count": null,
      "outputs": []
    },
    {
      "cell_type": "code",
      "metadata": {
        "colab": {
          "base_uri": "https://localhost:8080/",
          "height": 688
        },
        "id": "X7Ue_0_qIuXE",
        "outputId": "0ef07180-8562-46f4-b1f2-aa7cbd2c71b0"
      },
      "source": [
        "plt.figure(figsize=(18, 11))\n",
        "plt.plot(history_1.history['accuracy'], label='Simple model')\n",
        "plt.plot(history_2.history['accuracy'], label='Embedding Layer')\n",
        "plt.plot(history_3.history['accuracy'], label='Add GlobalMaxPool1D')\n",
        "plt.plot(history_4.history['accuracy'], label='CNN')\n",
        "plt.plot(history_5.history['accuracy'], label='Add Dropout')\n",
        "plt.plot(history_6.history['accuracy'], label='CNN + LSTM')\n",
        "plt.plot(history_7.history['accuracy'], label='GRU + CNN')\n",
        "plt.legend()\n",
        "plt.xlabel('Epochs')\n",
        "plt.ylabel('Accuracy')\n",
        "plt.title('Accuracy of epochs')\n",
        "plt.show()"
      ],
      "execution_count": null,
      "outputs": [
        {
          "output_type": "display_data",
          "data": {
            "image/png": "[encoded data removed]",
            "text/plain": [
              "<Figure size 1296x792 with 1 Axes>"
            ]
          },
          "metadata": {
            "tags": [],
            "needs_background": "light"
          }
        }
      ]
    },
    {
      "cell_type": "code",
      "metadata": {
        "colab": {
          "base_uri": "https://localhost:8080/",
          "height": 688
        },
        "id": "NZQss6tNIuZt",
        "outputId": "a9960d4b-b225-492a-e98b-a60b29f16f7c"
      },
      "source": [
        "plt.figure(figsize=(18, 11))\n",
        "plt.plot(history_1.history['val_accuracy'], label='Simple model')\n",
        "plt.plot(history_2.history['val_accuracy'], label='Embedding Layer')\n",
        "plt.plot(history_3.history['val_accuracy'], label='Add GlobalMaxPool1D')\n",
        "plt.plot(history_4.history['val_accuracy'], label='CNN')\n",
        "plt.plot(history_5.history['val_accuracy'], label='Add Dropout')\n",
        "plt.plot(history_6.history['val_accuracy'], label='CNN + LSTM')\n",
        "plt.plot(history_7.history['val_accuracy'], label='GRU + CNN')\n",
        "plt.legend()\n",
        "plt.xlabel('Epochs')\n",
        "plt.ylabel('Accuracy')\n",
        "plt.title('Val_accuracy of epochs')\n",
        "plt.show()"
      ],
      "execution_count": null,
      "outputs": [
        {
          "output_type": "display_data",
          "data": {
            "image/png": "[encoded data removed]",
            "text/plain": [
              "<Figure size 1296x792 with 1 Axes>"
            ]
          },
          "metadata": {
            "tags": [],
            "needs_background": "light"
          }
        }
      ]
    },
    {
      "cell_type": "code",
      "metadata": {
        "id": "8cm-EliBIucQ"
      },
      "source": [
        ""
      ],
      "execution_count": null,
      "outputs": []
    },
    {
      "cell_type": "code",
      "metadata": {
        "id": "VHpkGs-1loki"
      },
      "source": [
        ""
      ],
      "execution_count": null,
      "outputs": []
    },
    {
      "cell_type": "code",
      "metadata": {
        "id": "ig4wV62d3Obt"
      },
      "source": [
        ""
      ],
      "execution_count": null,
      "outputs": []
    }
  ]
}