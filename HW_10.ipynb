{
  "nbformat": 4,
  "nbformat_minor": 0,
  "metadata": {
    "kernelspec": {
      "display_name": "Python 3",
      "language": "python",
      "name": "python3"
    },
    "language_info": {
      "codemirror_mode": {
        "name": "ipython",
        "version": 3
      },
      "file_extension": ".py",
      "mimetype": "text/x-python",
      "name": "python",
      "nbconvert_exporter": "python",
      "pygments_lexer": "ipython3",
      "version": "3.7.4"
    },
    "colab": {
      "name": "HW_10.ipynb",
      "provenance": []
    }
  },
  "cells": [
    {
      "cell_type": "markdown",
      "metadata": {
        "id": "uV6QLUnbU47Q"
      },
      "source": [
        "# Урок 10. Машинный перевод. Модель seq2seq и механизм внимания\n",
        "\n",
        "#### Разобраться с задачей перевода с вниманием и без внимания (материалы в архиве с пометкой actual)"
      ]
    },
    {
      "cell_type": "code",
      "metadata": {
        "id": "Lcvrm0ESU47S"
      },
      "source": [
        "import os\n",
        "import time\n",
        "\n",
        "import re\n",
        "\n",
        "from sklearn.model_selection import train_test_split\n",
        "\n",
        "import tensorflow as tf\n",
        "from tensorflow.keras import layers"
      ],
      "execution_count": null,
      "outputs": []
    },
    {
      "cell_type": "markdown",
      "metadata": {
        "id": "6G4XXW7_U47T"
      },
      "source": [
        "## Prep data"
      ]
    },
    {
      "cell_type": "code",
      "metadata": {
        "id": "rRiVrJOhU47T"
      },
      "source": [
        "PATH_TO_FILE = '../data/rus-eng/rus.txt'\n",
        "NUM_EXAMPLES = 100_000"
      ],
      "execution_count": null,
      "outputs": []
    },
    {
      "cell_type": "code",
      "metadata": {
        "id": "pGQGL54bU47T"
      },
      "source": [
        "def preprocess_sentence(w):\n",
        "    w = w.lower().strip()\n",
        "    w = re.sub(r\"([?.!,])\", r\" \\1 \", w)\n",
        "    w = re.sub(r'[\" \"]+', \" \", w)\n",
        "    w = re.sub(r\"[^a-zA-Zа-яА-Я?.!,']+\", \" \", w)\n",
        "    w = w.strip()\n",
        "    w = '<start> ' + w + ' <end>'\n",
        "    return w\n",
        "\n",
        "def create_dataset(path, num_examples=None):\n",
        "    with open(path, 'r', encoding='utf') as lines:\n",
        "        lines = lines.read().strip().split('\\n')\n",
        "\n",
        "    word_pairs = [[preprocess_sentence(w) for w in l.split('\\t')[:2]] for l in lines[:num_examples]]\n",
        "    word_pairs = zip(*word_pairs)\n",
        "    return word_pairs\n",
        "\n",
        "def tokenize(lang):\n",
        "    lang_tokenizer = tf.keras.preprocessing.text.Tokenizer(filters='')\n",
        "    lang_tokenizer.fit_on_texts(lang)\n",
        "\n",
        "    tensor = lang_tokenizer.texts_to_sequences(lang)\n",
        "    tensor = tf.keras.preprocessing.sequence.pad_sequences(tensor, padding='post')\n",
        "\n",
        "    return tensor, lang_tokenizer\n",
        "\n",
        "def load_dataset(path, num_examples=None):\n",
        "    targ_lang, inp_lang = create_dataset(path, num_examples)\n",
        "\n",
        "    input_tensor, inp_lang_tokenizer = tokenize(inp_lang)\n",
        "    target_tensor, targ_lang_tokenizer = tokenize(targ_lang)\n",
        "\n",
        "    return input_tensor, target_tensor, inp_lang_tokenizer, targ_lang_tokenizer"
      ],
      "execution_count": null,
      "outputs": []
    },
    {
      "cell_type": "code",
      "metadata": {
        "id": "nqNhVtDeU47U"
      },
      "source": [
        "input_tensor, target_tensor, inp_lang, targ_lang = load_dataset(PATH_TO_FILE, NUM_EXAMPLES)\n",
        "\n",
        "X_train, X_val, y_train, y_val = train_test_split(input_tensor, target_tensor, test_size=0.2)"
      ],
      "execution_count": null,
      "outputs": []
    },
    {
      "cell_type": "code",
      "metadata": {
        "id": "YQLUMPZ4U47U"
      },
      "source": [
        "BUFFER_SIZE = len(X_train)\n",
        "BATCH_SIZE = 64\n",
        "\n",
        "steps_per_epoch = BUFFER_SIZE // BATCH_SIZE\n",
        "\n",
        "embedding_dim = 256\n",
        "units = 1024\n",
        "\n",
        "vocab_inp_size = len(inp_lang.word_index) + 1\n",
        "vocab_tar_size = len(targ_lang.word_index) + 1"
      ],
      "execution_count": null,
      "outputs": []
    },
    {
      "cell_type": "code",
      "metadata": {
        "id": "V1MUCt6jU47V"
      },
      "source": [
        "dataset = tf.data.Dataset.from_tensor_slices((X_train, y_train)).shuffle(BUFFER_SIZE)\n",
        "dataset = dataset.batch(BATCH_SIZE, drop_remainder=True)"
      ],
      "execution_count": null,
      "outputs": []
    },
    {
      "cell_type": "markdown",
      "metadata": {
        "id": "4_8dE09cU47V"
      },
      "source": [
        "#### 2. попробовать поэкспериментировать с архитектурой энкодера и декодера"
      ]
    },
    {
      "cell_type": "code",
      "metadata": {
        "id": "BIa4_icQU47V"
      },
      "source": [
        "class Encoder(tf.keras.Model):\n",
        "    def __init__(self, vocab_size, embedding_dim, units, batch_size):\n",
        "        super(Encoder, self).__init__()\n",
        "        \n",
        "        self.batch_size = batch_size\n",
        "        self.units = units\n",
        "        \n",
        "        self.embedding = layers.Embedding(vocab_size, embedding_dim)\n",
        "        self.gru = layers.GRU(units, return_sequences=False, return_state=True, recurrent_initializer='glorot_uniform')\n",
        "        \n",
        "    def call(self, x, hidden):\n",
        "        x = self.embedding(x)\n",
        "        output, state = self.gru(x, initial_state=hidden)\n",
        "        return state\n",
        "    \n",
        "    def initialize_hidden_state(self):\n",
        "        return tf.zeros((self.batch_size, self.units))"
      ],
      "execution_count": null,
      "outputs": []
    },
    {
      "cell_type": "code",
      "metadata": {
        "id": "YxVY64DgU47W"
      },
      "source": [
        "class Decoder(tf.keras.Model):\n",
        "    def __init__(self, vocab_size, embedding_dim, units, batch_size):\n",
        "        super(Decoder, self).__init__()\n",
        "        self.batch_size = batch_size\n",
        "        self.units = units\n",
        "        \n",
        "        self.embedding = layers.Embedding(vocab_size, embedding_dim)\n",
        "        self.gru = layers.GRU(units, return_sequences=True, return_state=True, recurrent_initializer='glorot_uniform')\n",
        "        self.dence = layers.Dense(vocab_size)\n",
        "\n",
        "    def call(self, x, hidden):\n",
        "        x = self.embedding(x)\n",
        "        output, state = self.gru(x, initial_state=hidden)\n",
        "        output = tf.reshape(output, (-1, output.shape[2]))\n",
        "        x = self.dence(output)\n",
        "        return x, state"
      ],
      "execution_count": null,
      "outputs": []
    },
    {
      "cell_type": "code",
      "metadata": {
        "id": "bcYZhfsGU47W"
      },
      "source": [
        "encoder = Encoder(vocab_inp_size, embedding_dim, units, BATCH_SIZE)\n",
        "decoder = Decoder(vocab_tar_size, embedding_dim, units, BATCH_SIZE)"
      ],
      "execution_count": null,
      "outputs": []
    },
    {
      "cell_type": "code",
      "metadata": {
        "id": "hNXiESQLU47X"
      },
      "source": [
        "optimizer = tf.keras.optimizers.Adam()\n",
        "loss_object = tf.keras.losses.SparseCategoricalCrossentropy(from_logits=True, reduction='none')\n",
        "\n",
        "def loss_function(real, pred):\n",
        "    mask = tf.math.logical_not(tf.math.equal(real, 0))\n",
        "    loss = loss_object(real, pred)\n",
        "\n",
        "    mask = tf.cast(mask, dtype=loss.dtype)\n",
        "    loss *= mask\n",
        "\n",
        "    return tf.reduce_mean(loss)"
      ],
      "execution_count": null,
      "outputs": []
    },
    {
      "cell_type": "code",
      "metadata": {
        "id": "KiCBL60fU47X"
      },
      "source": [
        "checkpoint_dir = './training_nmt_checkpoints'\n",
        "checkpoint_prefix = os.path.join(checkpoint_dir, \"ckpt\")\n",
        "\n",
        "checkpoint = tf.train.Checkpoint(\n",
        "    optimizer=optimizer,\n",
        "    encoder=encoder,\n",
        "    decoder=decoder\n",
        ")"
      ],
      "execution_count": null,
      "outputs": []
    },
    {
      "cell_type": "code",
      "metadata": {
        "id": "immkuoaTU47X"
      },
      "source": [
        "def train_step(inp, targ, enc_hidden):\n",
        "    loss = 0\n",
        "\n",
        "    with tf.GradientTape() as tape:\n",
        "        enc_hidden = encoder(inp, enc_hidden)\n",
        "        dec_hidden = enc_hidden\n",
        "        dec_input = tf.expand_dims([targ_lang.word_index['<start>']] * BATCH_SIZE, 1)\n",
        "\n",
        "        for t in range(1, targ.shape[1]):\n",
        "            predictions, dec_hidden = decoder(dec_input, dec_hidden)\n",
        "\n",
        "            loss += loss_function(targ[:, t], predictions)\n",
        "\n",
        "            dec_input = tf.expand_dims(targ[:, t], 1)\n",
        "\n",
        "    batch_loss = loss / int(targ.shape[1])\n",
        "    variables = encoder.trainable_variables + decoder.trainable_variables\n",
        "    gradients = tape.gradient(loss, variables)\n",
        "\n",
        "    optimizer.apply_gradients(zip(gradients, variables))\n",
        "\n",
        "    return batch_loss"
      ],
      "execution_count": null,
      "outputs": []
    },
    {
      "cell_type": "code",
      "metadata": {
        "scrolled": false,
        "id": "QrT8tRMEU47Y",
        "outputId": "e59ad46c-e2f5-48f5-afb1-d07ab73e638e"
      },
      "source": [
        "EPOCHS = 1\n",
        "training = True\n",
        "\n",
        "checkpoint.restore(tf.train.latest_checkpoint(checkpoint_dir))\n",
        "    \n",
        "if training:\n",
        "    for epoch in range(EPOCHS):\n",
        "        start = time.time()\n",
        "        \n",
        "        enc_hidden = encoder.initialize_hidden_state()\n",
        "        total_loss = 0\n",
        "\n",
        "        for batch, (inp, targ) in enumerate(dataset.take(steps_per_epoch)):\n",
        "            batch_loss = train_step(inp, targ, enc_hidden)\n",
        "            total_loss += batch_loss\n",
        "\n",
        "            if batch % 200 == 0:\n",
        "                print(f'Epoch {epoch + 1} Batch {batch} Loss {batch_loss.numpy():.4f}')\n",
        "                checkpoint.save(file_prefix=checkpoint_prefix)\n",
        "                print('checkpoint saved')\n",
        "\n",
        "        print(f'Epoch {epoch + 1} Loss {total_loss / steps_per_epoch:.4f}')\n",
        "        print(f'{round(time.time() - start)} sec./batch\\n')"
      ],
      "execution_count": null,
      "outputs": [
        {
          "output_type": "stream",
          "text": [
            "Epoch 1 Batch 0 Loss 0.4004\n",
            "checkpoint saved\n",
            "Epoch 1 Batch 200 Loss 0.4720\n",
            "checkpoint saved\n",
            "Epoch 1 Batch 400 Loss 0.3943\n",
            "checkpoint saved\n",
            "Epoch 1 Batch 600 Loss 0.3866\n",
            "checkpoint saved\n",
            "Epoch 1 Batch 800 Loss 0.3549\n",
            "checkpoint saved\n",
            "Epoch 1 Batch 1000 Loss 0.4530\n",
            "checkpoint saved\n",
            "Epoch 1 Batch 1200 Loss 0.3657\n",
            "checkpoint saved\n",
            "Epoch 1 Loss 0.3956\n",
            "373 sec./batch\n",
            "\n"
          ],
          "name": "stdout"
        }
      ]
    },
    {
      "cell_type": "markdown",
      "metadata": {
        "id": "wn4atw_CU47Z"
      },
      "source": [
        "#### 1. сделать выводы о качестве перевода в зависимости от длины предложений"
      ]
    },
    {
      "cell_type": "code",
      "metadata": {
        "id": "d2-5mb22U47Z"
      },
      "source": [
        "def evaluate(sentence):\n",
        "    sentence = preprocess_sentence(sentence)\n",
        "\n",
        "    inputs = [inp_lang.word_index[i] for i in sentence.split(' ')]\n",
        "    inputs = tf.keras.preprocessing.sequence.pad_sequences(\n",
        "        [inputs],\n",
        "        maxlen=input_tensor.shape[1],\n",
        "        padding='post'\n",
        "    )\n",
        "    inputs = tf.convert_to_tensor(inputs)\n",
        "\n",
        "    result = ''\n",
        "\n",
        "    enc_hidden = [tf.zeros((1, units))]\n",
        "    enc_hidden = encoder(inputs, enc_hidden)\n",
        "\n",
        "    dec_hidden = enc_hidden\n",
        "    dec_input = tf.expand_dims([targ_lang.word_index['<start>']], 0)\n",
        "\n",
        "    for t in range(target_tensor.shape[1]):\n",
        "        pred, dec_hidden = decoder(dec_input, dec_hidden)\n",
        "        pred = tf.argmax(pred[0]).numpy()\n",
        "        \n",
        "        result += targ_lang.index_word[pred] + ' '\n",
        "\n",
        "        if targ_lang.index_word[pred] == '<end>':\n",
        "            return result, sentence\n",
        "\n",
        "        dec_input = tf.expand_dims([pred], 0)\n",
        "\n",
        "    return result, sentence"
      ],
      "execution_count": null,
      "outputs": []
    },
    {
      "cell_type": "code",
      "metadata": {
        "id": "FVb_LDdOU47Z"
      },
      "source": [
        "def translate(sentence):\n",
        "    result, sentence = evaluate(sentence)\n",
        "    \n",
        "    print(f'Input: {sentence}')\n",
        "    print(f'Predicted translation: {result}')"
      ],
      "execution_count": null,
      "outputs": []
    },
    {
      "cell_type": "code",
      "metadata": {
        "id": "bu-vsA-3U47Z",
        "outputId": "0b322554-9172-4e4e-81d8-d52250a36263"
      },
      "source": [
        "translate('Жирный кот.')"
      ],
      "execution_count": null,
      "outputs": [
        {
          "output_type": "stream",
          "text": [
            "Input: <start> жирный кот . <end>\n",
            "Predicted translation: the cat is dead . <end> \n"
          ],
          "name": "stdout"
        }
      ]
    },
    {
      "cell_type": "code",
      "metadata": {
        "id": "ncYcSkDOU47a",
        "outputId": "3a1c0a6a-6f67-4ae4-aab8-dc561aecd7b3"
      },
      "source": [
        "translate('Мои чувства - это причина искусства.')"
      ],
      "execution_count": null,
      "outputs": [
        {
          "output_type": "stream",
          "text": [
            "Input: <start> мои чувства это причина искусства . <end>\n",
            "Predicted translation: i have lots of this . <end> \n"
          ],
          "name": "stdout"
        }
      ]
    },
    {
      "cell_type": "code",
      "metadata": {
        "id": "6_h3t66_U47a",
        "outputId": "491e824c-bdba-4410-c11d-93ccf73b81ec"
      },
      "source": [
        "translate('Чем больше понимаешь, тем меньше говоришь')"
      ],
      "execution_count": null,
      "outputs": [
        {
          "output_type": "stream",
          "text": [
            "Input: <start> чем больше понимаешь , тем меньше говоришь <end>\n",
            "Predicted translation: what more can fly ? <end> \n"
          ],
          "name": "stdout"
        }
      ]
    },
    {
      "cell_type": "code",
      "metadata": {
        "id": "OI-VJ51kU47a",
        "outputId": "11f71ec3-470c-4c96-d707-1d2e0f7ff501"
      },
      "source": [
        "translate('минус один - это уже один, а один - это уже не ноль')"
      ],
      "execution_count": null,
      "outputs": [
        {
          "output_type": "stream",
          "text": [
            "Input: <start> минус один это уже один , а один это уже не ноль <end>\n",
            "Predicted translation: be quick as it as you . <end> \n"
          ],
          "name": "stdout"
        }
      ]
    }
  ]
}