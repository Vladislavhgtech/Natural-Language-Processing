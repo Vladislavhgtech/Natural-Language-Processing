{
  "nbformat": 4,
  "nbformat_minor": 0,
  "metadata": {
    "colab": {
      "name": "hw_06.ipynb",
      "provenance": [],
      "collapsed_sections": []
    },
    "kernelspec": {
      "display_name": "Python 3",
      "language": "python",
      "name": "python3"
    },
    "language_info": {
      "codemirror_mode": {
        "name": "ipython",
        "version": 3
      },
      "file_extension": ".py",
      "mimetype": "text/x-python",
      "name": "python",
      "nbconvert_exporter": "python",
      "pygments_lexer": "ipython3",
      "version": "3.8.8"
    }
  },
  "cells": [
    {
      "cell_type": "markdown",
      "metadata": {
        "id": "3ZrA2tAaZTPf"
      },
      "source": [
        "### Домашняя работа 6"
      ]
    },
    {
      "cell_type": "code",
      "metadata": {
        "colab": {
          "base_uri": "https://localhost:8080/",
          "height": 17
        },
        "id": "JAFnV_UjZTPT",
        "outputId": "5c3b346c-202f-4e31-f044-2dae3a5df843"
      },
      "source": [
        "from IPython.core.display import display, HTML, Image\n",
        "display(HTML(\"<style>.container { width:77% !important; }</style>\"))"
      ],
      "execution_count": null,
      "outputs": [
        {
          "output_type": "display_data",
          "data": {
            "text/html": [
              "<style>.container { width:77% !important; }</style>"
            ],
            "text/plain": [
              "<IPython.core.display.HTML object>"
            ]
          },
          "metadata": {
            "tags": []
          }
        }
      ]
    },
    {
      "cell_type": "code",
      "metadata": {
        "id": "DtDZ7JuBVFi6"
      },
      "source": [
        "import warnings\n",
        "warnings.filterwarnings(\"ignore\")"
      ],
      "execution_count": null,
      "outputs": []
    },
    {
      "cell_type": "code",
      "metadata": {
        "id": "f3wgBldxU7Zz"
      },
      "source": [
        "import sys\n",
        "\n",
        "import re\n",
        "import numpy as np\n",
        "import pandas as pd\n",
        "import matplotlib.pyplot as plt\n",
        "%matplotlib inline\n",
        "\n",
        "from sklearn.feature_extraction.text import CountVectorizer, TfidfVectorizer, HashingVectorizer\n",
        "from sklearn.linear_model import LogisticRegression\n",
        "from sklearn.ensemble import RandomForestClassifier\n",
        "from sklearn.pipeline import Pipeline\n",
        "from sklearn.metrics import accuracy_score\n",
        "\n",
        "import nltk\n",
        "from nltk.tag import BigramTagger, TrigramTagger, UnigramTagger\n",
        "from collections import Counter\n",
        "\n",
        "import tensorflow as tf\n",
        "from tensorflow.keras import Sequential\n",
        "from tensorflow.keras import layers"
      ],
      "execution_count": null,
      "outputs": []
    },
    {
      "cell_type": "code",
      "metadata": {
        "id": "fdBjruNZWnmU"
      },
      "source": [
        "def eval_model(model, test_df):\n",
        "    preds = model.predict(test_df['review'])\n",
        "    accuracy = accuracy_score(test_df['is_positive'], preds)\n",
        "    \n",
        "    result = round(accuracy*100, 2)\n",
        "    # print(f'Test accuracy = {result}%')\n",
        "    \n",
        "    return result\n",
        "\n",
        "def convert(texts, word2idx, max_text_len):\n",
        "    data = np.zeros((len(texts), max_text_len), dtype=np.int)\n",
        "\n",
        "    for inx, text in enumerate(texts):\n",
        "        result = []\n",
        "        for word in text.split():\n",
        "            if word in word2idx:\n",
        "                result.append(word2idx[word])\n",
        "        padding = [0]*(max_text_len - len(result))\n",
        "        data[inx] = np.array(padding + result[-max_text_len:], dtype=np.int)\n",
        "\n",
        "    return data"
      ],
      "execution_count": null,
      "outputs": []
    },
    {
      "cell_type": "markdown",
      "metadata": {
        "id": "_16J0ER8WOJx"
      },
      "source": [
        "### Загрузка данных"
      ]
    },
    {
      "cell_type": "code",
      "metadata": {
        "colab": {
          "base_uri": "https://localhost:8080/"
        },
        "id": "Hl9WGM9nWnmV",
        "outputId": "0376bae6-d688-4284-fb27-da0065d5a22c"
      },
      "source": [
        "# Loading data\n",
        "train_df = pd.read_csv(\"train.tsv\", delimiter=\"\\t\")\n",
        "test_df = pd.read_csv(\"test.tsv\", delimiter=\"\\t\")\n",
        "\n",
        "print(f'Train size = {len(train_df)}')\n",
        "print(f'Test size = {len(test_df)}')"
      ],
      "execution_count": null,
      "outputs": [
        {
          "output_type": "stream",
          "text": [
            "Train size = 25000\n",
            "Test size = 25000\n"
          ],
          "name": "stdout"
        }
      ]
    },
    {
      "cell_type": "code",
      "metadata": {
        "colab": {
          "base_uri": "https://localhost:8080/",
          "height": 282
        },
        "id": "EkA0wChfXuvs",
        "outputId": "3dfe5392-9822-4190-bd8a-9f02ebfd8b5d"
      },
      "source": [
        "hist = plt.hist(train_df['review'].apply(lambda text: len(text.split())), bins='auto')[2]\n",
        "hist"
      ],
      "execution_count": null,
      "outputs": [
        {
          "output_type": "execute_result",
          "data": {
            "text/plain": [
              "<a list of 230 Patch objects>"
            ]
          },
          "metadata": {
            "tags": []
          },
          "execution_count": 10
        },
        {
          "output_type": "display_data",
          "data": {
            "image/png": "[encoded data removed]",
            "text/plain": [
              "<Figure size 432x288 with 1 Axes>"
            ]
          },
          "metadata": {
            "tags": [],
            "needs_background": "light"
          }
        }
      ]
    },
    {
      "cell_type": "code",
      "metadata": {
        "colab": {
          "base_uri": "https://localhost:8080/"
        },
        "id": "VEIVhMBKYB_K",
        "outputId": "af9924ac-b0cb-42f8-93d1-315abe78a13d"
      },
      "source": [
        "words_counter = Counter((word for text in train_df['review'] for word in text.lower().split()))\n",
        "word2idx = {'':0, '<unk>':1}\n",
        "\n",
        "for word, count in words_counter.most_common():\n",
        "    if count < 10:\n",
        "        break\n",
        "    word2idx[word] = len(word2idx)\n",
        "\n",
        "print('Words count', len(word2idx))\n",
        "\n",
        "X_train = convert(train_df['review'], word2idx, 1000)\n",
        "X_test = convert(test_df['review'], word2idx, 1000)"
      ],
      "execution_count": null,
      "outputs": [
        {
          "output_type": "stream",
          "text": [
            "Words count 27299\n"
          ],
          "name": "stdout"
        }
      ]
    },
    {
      "cell_type": "code",
      "metadata": {
        "id": "WudaCXbxtUfa"
      },
      "source": [
        "models = []\n",
        "\n",
        "models.append(('CountVectorizer', CountVectorizer()))\n",
        "models.append(('TfidfVectorizer', TfidfVectorizer()))\n",
        "models.append(('HashingVectorizer', HashingVectorizer()))"
      ],
      "execution_count": null,
      "outputs": []
    },
    {
      "cell_type": "code",
      "metadata": {
        "id": "xwf2dYpRpX6S",
        "colab": {
          "base_uri": "https://localhost:8080/",
          "height": 142
        },
        "outputId": "77976a08-af28-4845-a6b8-6b8338ea6a9b"
      },
      "source": [
        "# Logistic Regression\n",
        "results = []\n",
        "\n",
        "for name, model in models:\n",
        "    net = Pipeline([\n",
        "        ('vectorizer', model),\n",
        "        ('classifier', LogisticRegression())\n",
        "    ])\n",
        "    net.fit(train_df['review'], train_df['is_positive'])\n",
        "    accuracy = eval_model(net, test_df)\n",
        "    results.append((name, accuracy))\n",
        "\n",
        "best_baseline = pd.DataFrame(results, columns = ['model','accuracy'])\n",
        "best_baseline.sort_values('accuracy', ascending=False)"
      ],
      "execution_count": null,
      "outputs": [
        {
          "output_type": "execute_result",
          "data": {
            "text/html": [
              "<div>\n",
              "<style scoped>\n",
              "    .dataframe tbody tr th:only-of-type {\n",
              "        vertical-align: middle;\n",
              "    }\n",
              "\n",
              "    .dataframe tbody tr th {\n",
              "        vertical-align: top;\n",
              "    }\n",
              "\n",
              "    .dataframe thead th {\n",
              "        text-align: right;\n",
              "    }\n",
              "</style>\n",
              "<table border=\"1\" class=\"dataframe\">\n",
              "  <thead>\n",
              "    <tr style=\"text-align: right;\">\n",
              "      <th></th>\n",
              "      <th>model</th>\n",
              "      <th>accuracy</th>\n",
              "    </tr>\n",
              "  </thead>\n",
              "  <tbody>\n",
              "    <tr>\n",
              "      <th>1</th>\n",
              "      <td>TfidfVectorizer</td>\n",
              "      <td>88.32</td>\n",
              "    </tr>\n",
              "    <tr>\n",
              "      <th>0</th>\n",
              "      <td>CountVectorizer</td>\n",
              "      <td>86.31</td>\n",
              "    </tr>\n",
              "    <tr>\n",
              "      <th>2</th>\n",
              "      <td>HashingVectorizer</td>\n",
              "      <td>85.94</td>\n",
              "    </tr>\n",
              "  </tbody>\n",
              "</table>\n",
              "</div>"
            ],
            "text/plain": [
              "               model  accuracy\n",
              "1    TfidfVectorizer     88.32\n",
              "0    CountVectorizer     86.31\n",
              "2  HashingVectorizer     85.94"
            ]
          },
          "metadata": {
            "tags": []
          },
          "execution_count": 10
        }
      ]
    },
    {
      "cell_type": "code",
      "metadata": {
        "colab": {
          "base_uri": "https://localhost:8080/",
          "height": 142
        },
        "id": "Yk1GmlDa3tHy",
        "outputId": "04405418-751e-44a8-c9ab-b09224b14683"
      },
      "source": [
        "# RandomForestClassifier\n",
        "results = []\n",
        "\n",
        "for name, model in models:\n",
        "    net = Pipeline([\n",
        "        ('vectorizer', model),\n",
        "        ('classifier', RandomForestClassifier(n_estimators=825, max_depth=8, random_state=15, max_features=7))\n",
        "    ])\n",
        "    net.fit(train_df['review'], train_df['is_positive'])\n",
        "    accuracy = eval_model(net, test_df)\n",
        "    results.append((name, accuracy))\n",
        "\n",
        "best_baseline2 = pd.DataFrame(results, columns = ['model','accuracy'])\n",
        "best_baseline2.sort_values('accuracy', ascending=False)"
      ],
      "execution_count": null,
      "outputs": [
        {
          "output_type": "execute_result",
          "data": {
            "text/html": [
              "<div>\n",
              "<style scoped>\n",
              "    .dataframe tbody tr th:only-of-type {\n",
              "        vertical-align: middle;\n",
              "    }\n",
              "\n",
              "    .dataframe tbody tr th {\n",
              "        vertical-align: top;\n",
              "    }\n",
              "\n",
              "    .dataframe thead th {\n",
              "        text-align: right;\n",
              "    }\n",
              "</style>\n",
              "<table border=\"1\" class=\"dataframe\">\n",
              "  <thead>\n",
              "    <tr style=\"text-align: right;\">\n",
              "      <th></th>\n",
              "      <th>model</th>\n",
              "      <th>accuracy</th>\n",
              "    </tr>\n",
              "  </thead>\n",
              "  <tbody>\n",
              "    <tr>\n",
              "      <th>0</th>\n",
              "      <td>CountVectorizer</td>\n",
              "      <td>78.81</td>\n",
              "    </tr>\n",
              "    <tr>\n",
              "      <th>1</th>\n",
              "      <td>TfidfVectorizer</td>\n",
              "      <td>76.60</td>\n",
              "    </tr>\n",
              "    <tr>\n",
              "      <th>2</th>\n",
              "      <td>HashingVectorizer</td>\n",
              "      <td>67.35</td>\n",
              "    </tr>\n",
              "  </tbody>\n",
              "</table>\n",
              "</div>"
            ],
            "text/plain": [
              "               model  accuracy\n",
              "0    CountVectorizer     78.81\n",
              "1    TfidfVectorizer     76.60\n",
              "2  HashingVectorizer     67.35"
            ]
          },
          "metadata": {
            "tags": []
          },
          "execution_count": 11
        }
      ]
    },
    {
      "cell_type": "code",
      "metadata": {
        "id": "4i6G-7piKkYB"
      },
      "source": [
        "models = []\n",
        "\n",
        "models.append(('Net', Sequential([layers.Embedding(input_dim=len(word2idx), output_dim=64, input_shape=(X_train.shape[1],)),\n",
        "    layers.Dropout(0.2),\n",
        "    layers.GlobalAveragePooling1D(),\n",
        "    layers.Dropout(0.2),\n",
        "    layers.Dense(units=1, activation='sigmoid')\n",
        "])))"
      ],
      "execution_count": null,
      "outputs": []
    },
    {
      "cell_type": "code",
      "metadata": {
        "colab": {
          "base_uri": "https://localhost:8080/",
          "height": 437
        },
        "id": "OtIRT97pLEKp",
        "outputId": "eb422cf6-3f12-4e96-96bd-083248bcd544"
      },
      "source": [
        "# tensorflow\n",
        "results = []\n",
        "\n",
        "for name, model in models:\n",
        "    model.compile(loss='binary_crossentropy', optimizer='adam', metrics=['accuracy'])\n",
        "    model.fit(X_train, train_df['is_positive'], batch_size=32, epochs=10, validation_data=(X_test, test_df['is_positive']))\n",
        "    accuracy = model.evaluate(X_test, test_df['is_positive'])[1] * 100\n",
        "    results.append((name, accuracy))\n",
        "\n",
        "best_baseline3 = pd.DataFrame(results, columns = ['model','accuracy'])\n",
        "best_baseline3.sort_values('accuracy', ascending=False)"
      ],
      "execution_count": null,
      "outputs": [
        {
          "output_type": "stream",
          "text": [
            "Epoch 1/10\n",
            "782/782 [==============================] - 50s 63ms/step - loss: 0.6878 - accuracy: 0.5660 - val_loss: 0.6463 - val_accuracy: 0.7644\n",
            "Epoch 2/10\n",
            "782/782 [==============================] - 48s 61ms/step - loss: 0.6147 - accuracy: 0.7542 - val_loss: 0.5365 - val_accuracy: 0.7902\n",
            "Epoch 3/10\n",
            "782/782 [==============================] - 49s 63ms/step - loss: 0.5016 - accuracy: 0.8162 - val_loss: 0.4535 - val_accuracy: 0.8298\n",
            "Epoch 4/10\n",
            "782/782 [==============================] - 50s 64ms/step - loss: 0.4231 - accuracy: 0.8484 - val_loss: 0.4002 - val_accuracy: 0.8496\n",
            "Epoch 5/10\n",
            "782/782 [==============================] - 50s 63ms/step - loss: 0.3610 - accuracy: 0.8712 - val_loss: 0.3712 - val_accuracy: 0.8520\n",
            "Epoch 6/10\n",
            "782/782 [==============================] - 48s 61ms/step - loss: 0.3215 - accuracy: 0.8841 - val_loss: 0.3403 - val_accuracy: 0.8685\n",
            "Epoch 7/10\n",
            "782/782 [==============================] - 48s 61ms/step - loss: 0.2954 - accuracy: 0.8935 - val_loss: 0.3243 - val_accuracy: 0.8738\n",
            "Epoch 8/10\n",
            "782/782 [==============================] - 49s 63ms/step - loss: 0.2722 - accuracy: 0.9033 - val_loss: 0.3146 - val_accuracy: 0.8745\n",
            "Epoch 9/10\n",
            "782/782 [==============================] - 48s 62ms/step - loss: 0.2477 - accuracy: 0.9094 - val_loss: 0.3071 - val_accuracy: 0.8764\n",
            "Epoch 10/10\n",
            "782/782 [==============================] - 48s 61ms/step - loss: 0.2368 - accuracy: 0.9156 - val_loss: 0.3010 - val_accuracy: 0.8781\n",
            "782/782 [==============================] - 3s 4ms/step - loss: 0.3010 - accuracy: 0.8781\n"
          ],
          "name": "stdout"
        },
        {
          "output_type": "execute_result",
          "data": {
            "text/html": [
              "<div>\n",
              "<style scoped>\n",
              "    .dataframe tbody tr th:only-of-type {\n",
              "        vertical-align: middle;\n",
              "    }\n",
              "\n",
              "    .dataframe tbody tr th {\n",
              "        vertical-align: top;\n",
              "    }\n",
              "\n",
              "    .dataframe thead th {\n",
              "        text-align: right;\n",
              "    }\n",
              "</style>\n",
              "<table border=\"1\" class=\"dataframe\">\n",
              "  <thead>\n",
              "    <tr style=\"text-align: right;\">\n",
              "      <th></th>\n",
              "      <th>model</th>\n",
              "      <th>accuracy</th>\n",
              "    </tr>\n",
              "  </thead>\n",
              "  <tbody>\n",
              "    <tr>\n",
              "      <th>0</th>\n",
              "      <td>Net</td>\n",
              "      <td>87.812001</td>\n",
              "    </tr>\n",
              "  </tbody>\n",
              "</table>\n",
              "</div>"
            ],
            "text/plain": [
              "  model   accuracy\n",
              "0   Net  87.812001"
            ]
          },
          "metadata": {
            "tags": []
          },
          "execution_count": 13
        }
      ]
    },
    {
      "cell_type": "code",
      "metadata": {
        "colab": {
          "base_uri": "https://localhost:8080/",
          "height": 173
        },
        "id": "_HfByhwNIXZw",
        "outputId": "675d54e2-4051-4535-c525-609f69f0b769"
      },
      "source": [
        "final_result = pd.concat([best_baseline, best_baseline3], axis=0)\n",
        "final_result.sort_values('accuracy', ascending=False)"
      ],
      "execution_count": null,
      "outputs": [
        {
          "output_type": "execute_result",
          "data": {
            "text/html": [
              "<div>\n",
              "<style scoped>\n",
              "    .dataframe tbody tr th:only-of-type {\n",
              "        vertical-align: middle;\n",
              "    }\n",
              "\n",
              "    .dataframe tbody tr th {\n",
              "        vertical-align: top;\n",
              "    }\n",
              "\n",
              "    .dataframe thead th {\n",
              "        text-align: right;\n",
              "    }\n",
              "</style>\n",
              "<table border=\"1\" class=\"dataframe\">\n",
              "  <thead>\n",
              "    <tr style=\"text-align: right;\">\n",
              "      <th></th>\n",
              "      <th>model</th>\n",
              "      <th>accuracy</th>\n",
              "    </tr>\n",
              "  </thead>\n",
              "  <tbody>\n",
              "    <tr>\n",
              "      <th>1</th>\n",
              "      <td>TfidfVectorizer</td>\n",
              "      <td>88.320000</td>\n",
              "    </tr>\n",
              "    <tr>\n",
              "      <th>0</th>\n",
              "      <td>Net</td>\n",
              "      <td>87.812001</td>\n",
              "    </tr>\n",
              "    <tr>\n",
              "      <th>0</th>\n",
              "      <td>CountVectorizer</td>\n",
              "      <td>86.310000</td>\n",
              "    </tr>\n",
              "    <tr>\n",
              "      <th>2</th>\n",
              "      <td>HashingVectorizer</td>\n",
              "      <td>85.940000</td>\n",
              "    </tr>\n",
              "  </tbody>\n",
              "</table>\n",
              "</div>"
            ],
            "text/plain": [
              "               model   accuracy\n",
              "1    TfidfVectorizer  88.320000\n",
              "0                Net  87.812001\n",
              "0    CountVectorizer  86.310000\n",
              "2  HashingVectorizer  85.940000"
            ]
          },
          "metadata": {
            "tags": []
          },
          "execution_count": 14
        }
      ]
    },
    {
      "cell_type": "code",
      "metadata": {
        "colab": {
          "base_uri": "https://localhost:8080/",
          "height": 388
        },
        "id": "2ySIlpcCV0OR",
        "outputId": "5470cc59-84db-4d71-d9cf-793a03a2e2bb"
      },
      "source": [
        "x = final_result['model']\n",
        "y = final_result['accuracy']\n",
        "\n",
        "fig, ax = plt.subplots(figsize=(10, 6))\n",
        "ax.barh(x, y)\n",
        "\n",
        "# Remove axes splines\n",
        "for s in ['top', 'bottom', 'left', 'right']:\n",
        "    ax.spines[s].set_visible(False)\n",
        "\n",
        "# Add x, y gridlines\n",
        "ax.grid(b=True, color='grey', linestyle='-.', linewidth=0.5, alpha=0.7)\n",
        "\n",
        "# Add annotation to bars\n",
        "for i in ax.patches:\n",
        "    plt.text(i.get_width()+0.01, i.get_y()+0.5,\n",
        "             str(round((i.get_width()), 2)),\n",
        "             fontsize=10, fontweight='bold',\n",
        "             color='grey')\n",
        "\n",
        "plt.xlabel('accuracy')\n",
        "plt.show()"
      ],
      "execution_count": null,
      "outputs": [
        {
          "output_type": "display_data",
          "data": {
            "image/png": "[encoded data removed]",
            "text/plain": [
              "<Figure size 720x432 with 1 Axes>"
            ]
          },
          "metadata": {
            "tags": [],
            "needs_background": "light"
          }
        }
      ]
    },
    {
      "cell_type": "markdown",
      "metadata": {
        "id": "k16hbBA8T7Qd"
      },
      "source": [
        "### 1. Посмотрите на токены если будут мусорные добавьте их в стоп слова и обучите заново  "
      ]
    },
    {
      "cell_type": "code",
      "metadata": {
        "colab": {
          "base_uri": "https://localhost:8080/",
          "height": 204
        },
        "id": "Z1mXsgBgeh9m",
        "outputId": "553c136e-eabc-42fe-8dfd-c98253984a98"
      },
      "source": [
        "train_df['clean_review'] = train_df['review']\n",
        "test_df['clean_review'] = test_df['review']\n",
        "train_df.head()"
      ],
      "execution_count": null,
      "outputs": [
        {
          "output_type": "execute_result",
          "data": {
            "text/html": [
              "<div>\n",
              "<style scoped>\n",
              "    .dataframe tbody tr th:only-of-type {\n",
              "        vertical-align: middle;\n",
              "    }\n",
              "\n",
              "    .dataframe tbody tr th {\n",
              "        vertical-align: top;\n",
              "    }\n",
              "\n",
              "    .dataframe thead th {\n",
              "        text-align: right;\n",
              "    }\n",
              "</style>\n",
              "<table border=\"1\" class=\"dataframe\">\n",
              "  <thead>\n",
              "    <tr style=\"text-align: right;\">\n",
              "      <th></th>\n",
              "      <th>is_positive</th>\n",
              "      <th>review</th>\n",
              "      <th>clean_review</th>\n",
              "    </tr>\n",
              "  </thead>\n",
              "  <tbody>\n",
              "    <tr>\n",
              "      <th>0</th>\n",
              "      <td>0</td>\n",
              "      <td>Dreamgirls, despite its fistful of Tony wins i...</td>\n",
              "      <td>Dreamgirls, despite its fistful of Tony wins i...</td>\n",
              "    </tr>\n",
              "    <tr>\n",
              "      <th>1</th>\n",
              "      <td>0</td>\n",
              "      <td>This show comes up with interesting locations ...</td>\n",
              "      <td>This show comes up with interesting locations ...</td>\n",
              "    </tr>\n",
              "    <tr>\n",
              "      <th>2</th>\n",
              "      <td>1</td>\n",
              "      <td>I simply love this movie. I also love the Ramo...</td>\n",
              "      <td>I simply love this movie. I also love the Ramo...</td>\n",
              "    </tr>\n",
              "    <tr>\n",
              "      <th>3</th>\n",
              "      <td>0</td>\n",
              "      <td>Spoilers ahead if you want to call them that.....</td>\n",
              "      <td>Spoilers ahead if you want to call them that.....</td>\n",
              "    </tr>\n",
              "    <tr>\n",
              "      <th>4</th>\n",
              "      <td>1</td>\n",
              "      <td>My all-time favorite movie! I have seen many m...</td>\n",
              "      <td>My all-time favorite movie! I have seen many m...</td>\n",
              "    </tr>\n",
              "  </tbody>\n",
              "</table>\n",
              "</div>"
            ],
            "text/plain": [
              "   is_positive  ...                                       clean_review\n",
              "0            0  ...  Dreamgirls, despite its fistful of Tony wins i...\n",
              "1            0  ...  This show comes up with interesting locations ...\n",
              "2            1  ...  I simply love this movie. I also love the Ramo...\n",
              "3            0  ...  Spoilers ahead if you want to call them that.....\n",
              "4            1  ...  My all-time favorite movie! I have seen many m...\n",
              "\n",
              "[5 rows x 3 columns]"
            ]
          },
          "metadata": {
            "tags": []
          },
          "execution_count": 16
        }
      ]
    },
    {
      "cell_type": "code",
      "metadata": {
        "colab": {
          "base_uri": "https://localhost:8080/",
          "height": 204
        },
        "id": "B7U_k4x2OYEK",
        "outputId": "2d1531e7-3cc4-4d09-cb6f-d3f2ed6e2e30"
      },
      "source": [
        "train_df.tail()"
      ],
      "execution_count": null,
      "outputs": [
        {
          "output_type": "execute_result",
          "data": {
            "text/html": [
              "<div>\n",
              "<style scoped>\n",
              "    .dataframe tbody tr th:only-of-type {\n",
              "        vertical-align: middle;\n",
              "    }\n",
              "\n",
              "    .dataframe tbody tr th {\n",
              "        vertical-align: top;\n",
              "    }\n",
              "\n",
              "    .dataframe thead th {\n",
              "        text-align: right;\n",
              "    }\n",
              "</style>\n",
              "<table border=\"1\" class=\"dataframe\">\n",
              "  <thead>\n",
              "    <tr style=\"text-align: right;\">\n",
              "      <th></th>\n",
              "      <th>is_positive</th>\n",
              "      <th>review</th>\n",
              "      <th>clean_review</th>\n",
              "    </tr>\n",
              "  </thead>\n",
              "  <tbody>\n",
              "    <tr>\n",
              "      <th>24995</th>\n",
              "      <td>1</td>\n",
              "      <td>I am a big fan of the movie, but not for the u...</td>\n",
              "      <td>I am a big fan of the movie, but not for the u...</td>\n",
              "    </tr>\n",
              "    <tr>\n",
              "      <th>24996</th>\n",
              "      <td>0</td>\n",
              "      <td>I'm not going to bother with a plot synopsis s...</td>\n",
              "      <td>I'm not going to bother with a plot synopsis s...</td>\n",
              "    </tr>\n",
              "    <tr>\n",
              "      <th>24997</th>\n",
              "      <td>0</td>\n",
              "      <td>This movie . . . I don't know. Why they would ...</td>\n",
              "      <td>This movie . . . I don't know. Why they would ...</td>\n",
              "    </tr>\n",
              "    <tr>\n",
              "      <th>24998</th>\n",
              "      <td>1</td>\n",
              "      <td>Saw this film on DVD yesterday and was gob-sma...</td>\n",
              "      <td>Saw this film on DVD yesterday and was gob-sma...</td>\n",
              "    </tr>\n",
              "    <tr>\n",
              "      <th>24999</th>\n",
              "      <td>0</td>\n",
              "      <td>This was a disappointment - none of the nuance...</td>\n",
              "      <td>This was a disappointment - none of the nuance...</td>\n",
              "    </tr>\n",
              "  </tbody>\n",
              "</table>\n",
              "</div>"
            ],
            "text/plain": [
              "       is_positive  ...                                       clean_review\n",
              "24995            1  ...  I am a big fan of the movie, but not for the u...\n",
              "24996            0  ...  I'm not going to bother with a plot synopsis s...\n",
              "24997            0  ...  This movie . . . I don't know. Why they would ...\n",
              "24998            1  ...  Saw this film on DVD yesterday and was gob-sma...\n",
              "24999            0  ...  This was a disappointment - none of the nuance...\n",
              "\n",
              "[5 rows x 3 columns]"
            ]
          },
          "metadata": {
            "tags": []
          },
          "execution_count": 17
        }
      ]
    },
    {
      "cell_type": "code",
      "metadata": {
        "colab": {
          "base_uri": "https://localhost:8080/"
        },
        "id": "Jf3lAeMZex2v",
        "outputId": "06cc32be-0ab7-4c66-938d-4411eab94c47"
      },
      "source": [
        "# Заменим html-сущности\n",
        "import html\n",
        "html.unescape(train_df['clean_review'])"
      ],
      "execution_count": null,
      "outputs": [
        {
          "output_type": "execute_result",
          "data": {
            "text/plain": [
              "0        Dreamgirls, despite its fistful of Tony wins i...\n",
              "1        This show comes up with interesting locations ...\n",
              "2        I simply love this movie. I also love the Ramo...\n",
              "3        Spoilers ahead if you want to call them that.....\n",
              "4        My all-time favorite movie! I have seen many m...\n",
              "                               ...                        \n",
              "24995    I am a big fan of the movie, but not for the u...\n",
              "24996    I'm not going to bother with a plot synopsis s...\n",
              "24997    This movie . . . I don't know. Why they would ...\n",
              "24998    Saw this film on DVD yesterday and was gob-sma...\n",
              "24999    This was a disappointment - none of the nuance...\n",
              "Name: clean_review, Length: 25000, dtype: object"
            ]
          },
          "metadata": {
            "tags": []
          },
          "execution_count": 18
        }
      ]
    },
    {
      "cell_type": "code",
      "metadata": {
        "id": "yNMwRdUrkTXm"
      },
      "source": [
        "# Изменим регистр на нижний с помощью .lower()\n",
        "train_df['clean_review'] = train_df['clean_review'].apply(lambda x : x.lower())\n",
        "test_df['clean_review'] = test_df['clean_review'].apply(lambda x : x.lower())"
      ],
      "execution_count": null,
      "outputs": []
    },
    {
      "cell_type": "code",
      "metadata": {
        "id": "-aLjfnXjhHRz"
      },
      "source": [
        "# Заменим пунктуацию на пробелы, используя re.sub() и паттерн r'[^\\w\\s]'\n",
        "train_df['clean_review'] = train_df['clean_review'].apply(lambda x : re.sub(r'[^\\w\\s]', ' ', x))\n",
        "test_df['clean_review'] = test_df['clean_review'].apply(lambda x : re.sub(r'[^\\w\\s]', ' ', x))"
      ],
      "execution_count": null,
      "outputs": []
    },
    {
      "cell_type": "code",
      "metadata": {
        "id": "KczP42r9hZnX"
      },
      "source": [
        "# Заменим спец. символы на пробелы, используя re.sub() и паттерн r'[^a-zA-Z0-9]'\n",
        "train_df['clean_review'] = train_df['clean_review'].apply(lambda x : re.sub(r'[^a-zA-Z0-9]', ' ', x))\n",
        "test_df['clean_review'] = test_df['clean_review'].apply(lambda x : re.sub(r'[^a-zA-Z0-9]', ' ', x))"
      ],
      "execution_count": null,
      "outputs": []
    },
    {
      "cell_type": "code",
      "metadata": {
        "id": "8KyePO1Lh0kD"
      },
      "source": [
        "# Заменим числа на пробелы, используя re.sub() и паттерн r'[^a-zA-Z]'\n",
        "train_df['clean_review'] = train_df['clean_review'].apply(lambda x : re.sub(r'[^a-zA-Z]', ' ', x))\n",
        "test_df['clean_review'] = test_df['clean_review'].apply(lambda x : re.sub(r'[^a-zA-Z]', ' ', x))"
      ],
      "execution_count": null,
      "outputs": []
    },
    {
      "cell_type": "code",
      "metadata": {
        "id": "iUzTgKvqiMGC"
      },
      "source": [
        "# Удалим из текста слова длиной в 1 символ\n",
        "train_df['clean_review'] = train_df['clean_review'].apply(lambda x : ' '.join([w for w in x.split() if len(w)>1]))\n",
        "test_df['clean_review'] = test_df['clean_review'].apply(lambda x : ' '.join([w for w in x.split() if len(w)>1]))"
      ],
      "execution_count": null,
      "outputs": []
    },
    {
      "cell_type": "code",
      "metadata": {
        "id": "bo-L_CFVdU45"
      },
      "source": [
        "# create custom stop words list\n",
        "my_stop_words = ['DVD', 'me', 'i', 'she', 'it']\n",
        "train_df['clean_review'] = train_df['clean_review'].apply(lambda x : ' '.join([word for word in x.split() if word.lower() not in my_stop_words]))\n",
        "test_df['clean_review'] = test_df['clean_review'].apply(lambda x : ' '.join([word for word in x.split() if word.lower() not in my_stop_words]))"
      ],
      "execution_count": null,
      "outputs": []
    },
    {
      "cell_type": "code",
      "metadata": {
        "colab": {
          "base_uri": "https://localhost:8080/",
          "height": 282
        },
        "id": "wlZjJV32Wclb",
        "outputId": "e06a2313-d5f6-43ef-9f93-d0bc995fd77e"
      },
      "source": [
        "hist2 = plt.hist(train_df['clean_review'].apply(lambda text: len(text.split())), bins='auto')[2]\n",
        "hist2"
      ],
      "execution_count": null,
      "outputs": [
        {
          "output_type": "execute_result",
          "data": {
            "text/plain": [
              "<a list of 229 Patch objects>"
            ]
          },
          "metadata": {
            "tags": []
          },
          "execution_count": 25
        },
        {
          "output_type": "display_data",
          "data": {
            "image/png": "[encoded data removed]",
            "text/plain": [
              "<Figure size 432x288 with 1 Axes>"
            ]
          },
          "metadata": {
            "tags": [],
            "needs_background": "light"
          }
        }
      ]
    },
    {
      "cell_type": "code",
      "metadata": {
        "colab": {
          "base_uri": "https://localhost:8080/"
        },
        "id": "EsX7-bCJWd4D",
        "outputId": "f56da881-3ab1-4f48-ed2b-59518af1dcd2"
      },
      "source": [
        "words_counter = Counter((word for text in train_df['clean_review'] for word in text.lower().split()))\n",
        "word2idx = {'':0, '<unk>':1}\n",
        "\n",
        "for word, count in words_counter.most_common():\n",
        "    if count < 10:\n",
        "        break\n",
        "    word2idx[word] = len(word2idx)\n",
        "\n",
        "print('Words count', len(word2idx))\n",
        "\n",
        "X_train = convert(train_df['clean_review'], word2idx, 1000)\n",
        "X_test = convert(test_df['clean_review'], word2idx, 1000)"
      ],
      "execution_count": null,
      "outputs": [
        {
          "output_type": "stream",
          "text": [
            "Words count 19847\n"
          ],
          "name": "stdout"
        }
      ]
    },
    {
      "cell_type": "code",
      "metadata": {
        "id": "EhfUGzaEWmd6"
      },
      "source": [
        "models = []\n",
        "\n",
        "models.append(('CountVectorizer', CountVectorizer()))\n",
        "models.append(('TfidfVectorizer', TfidfVectorizer()))\n",
        "models.append(('HashingVectorizer', HashingVectorizer()))"
      ],
      "execution_count": null,
      "outputs": []
    },
    {
      "cell_type": "code",
      "metadata": {
        "colab": {
          "base_uri": "https://localhost:8080/",
          "height": 142
        },
        "id": "3MWBlgTvWtV9",
        "outputId": "c3f4d009-e871-4044-816d-94d35b8c4cc1"
      },
      "source": [
        "# Logistic Regression\n",
        "results = []\n",
        "\n",
        "for name, model in models:\n",
        "    net = Pipeline([\n",
        "        ('vectorizer', model),\n",
        "        ('classifier', LogisticRegression())\n",
        "    ])\n",
        "    net.fit(train_df['clean_review'], train_df['is_positive'])\n",
        "    accuracy = eval_model(net, test_df)\n",
        "    results.append((name, accuracy))\n",
        "\n",
        "best_baseline4 = pd.DataFrame(results, columns = ['model','accuracy'])\n",
        "best_baseline4.sort_values('accuracy', ascending=False)"
      ],
      "execution_count": null,
      "outputs": [
        {
          "output_type": "execute_result",
          "data": {
            "text/html": [
              "<div>\n",
              "<style scoped>\n",
              "    .dataframe tbody tr th:only-of-type {\n",
              "        vertical-align: middle;\n",
              "    }\n",
              "\n",
              "    .dataframe tbody tr th {\n",
              "        vertical-align: top;\n",
              "    }\n",
              "\n",
              "    .dataframe thead th {\n",
              "        text-align: right;\n",
              "    }\n",
              "</style>\n",
              "<table border=\"1\" class=\"dataframe\">\n",
              "  <thead>\n",
              "    <tr style=\"text-align: right;\">\n",
              "      <th></th>\n",
              "      <th>model</th>\n",
              "      <th>accuracy</th>\n",
              "    </tr>\n",
              "  </thead>\n",
              "  <tbody>\n",
              "    <tr>\n",
              "      <th>1</th>\n",
              "      <td>TfidfVectorizer</td>\n",
              "      <td>88.30</td>\n",
              "    </tr>\n",
              "    <tr>\n",
              "      <th>0</th>\n",
              "      <td>CountVectorizer</td>\n",
              "      <td>86.30</td>\n",
              "    </tr>\n",
              "    <tr>\n",
              "      <th>2</th>\n",
              "      <td>HashingVectorizer</td>\n",
              "      <td>86.12</td>\n",
              "    </tr>\n",
              "  </tbody>\n",
              "</table>\n",
              "</div>"
            ],
            "text/plain": [
              "               model  accuracy\n",
              "1    TfidfVectorizer     88.30\n",
              "0    CountVectorizer     86.30\n",
              "2  HashingVectorizer     86.12"
            ]
          },
          "metadata": {
            "tags": []
          },
          "execution_count": 28
        }
      ]
    },
    {
      "cell_type": "code",
      "metadata": {
        "colab": {
          "base_uri": "https://localhost:8080/",
          "height": 142
        },
        "id": "Qvmu8NiwmmWX",
        "outputId": "358f8bc1-70c0-45f1-867a-c9e514d6cc47"
      },
      "source": [
        "# RandomForestClassifier\n",
        "results = []\n",
        "\n",
        "for name, model in models:\n",
        "    net = Pipeline([\n",
        "        ('vectorizer', model),\n",
        "        ('classifier', RandomForestClassifier())\n",
        "    ])\n",
        "    net.fit(train_df['review'], train_df['is_positive'])\n",
        "    accuracy = eval_model(net, test_df)\n",
        "    results.append((name, accuracy))\n",
        "\n",
        "best_baseline5 = pd.DataFrame(results, columns = ['model','accuracy'])\n",
        "best_baseline5.sort_values('accuracy', ascending=False)"
      ],
      "execution_count": null,
      "outputs": [
        {
          "output_type": "execute_result",
          "data": {
            "text/html": [
              "<div>\n",
              "<style scoped>\n",
              "    .dataframe tbody tr th:only-of-type {\n",
              "        vertical-align: middle;\n",
              "    }\n",
              "\n",
              "    .dataframe tbody tr th {\n",
              "        vertical-align: top;\n",
              "    }\n",
              "\n",
              "    .dataframe thead th {\n",
              "        text-align: right;\n",
              "    }\n",
              "</style>\n",
              "<table border=\"1\" class=\"dataframe\">\n",
              "  <thead>\n",
              "    <tr style=\"text-align: right;\">\n",
              "      <th></th>\n",
              "      <th>model</th>\n",
              "      <th>accuracy</th>\n",
              "    </tr>\n",
              "  </thead>\n",
              "  <tbody>\n",
              "    <tr>\n",
              "      <th>0</th>\n",
              "      <td>CountVectorizer</td>\n",
              "      <td>78.81</td>\n",
              "    </tr>\n",
              "    <tr>\n",
              "      <th>1</th>\n",
              "      <td>TfidfVectorizer</td>\n",
              "      <td>76.60</td>\n",
              "    </tr>\n",
              "    <tr>\n",
              "      <th>2</th>\n",
              "      <td>HashingVectorizer</td>\n",
              "      <td>67.35</td>\n",
              "    </tr>\n",
              "  </tbody>\n",
              "</table>\n",
              "</div>"
            ],
            "text/plain": [
              "               model  accuracy\n",
              "0    CountVectorizer     78.81\n",
              "1    TfidfVectorizer     76.60\n",
              "2  HashingVectorizer     67.35"
            ]
          },
          "metadata": {
            "tags": []
          },
          "execution_count": 29
        }
      ]
    },
    {
      "cell_type": "code",
      "metadata": {
        "id": "jrJZzS_wWw51"
      },
      "source": [
        "models = []\n",
        "\n",
        "models.append(('Net', Sequential([layers.Embedding(input_dim=len(word2idx), output_dim=64, input_shape=(X_train.shape[1],)),\n",
        "    layers.Dropout(0.2),\n",
        "    layers.GlobalAveragePooling1D(),\n",
        "    layers.Dropout(0.2),\n",
        "    layers.Dense(units=1, activation='sigmoid')\n",
        "])))"
      ],
      "execution_count": null,
      "outputs": []
    },
    {
      "cell_type": "code",
      "metadata": {
        "colab": {
          "base_uri": "https://localhost:8080/",
          "height": 437
        },
        "id": "nSR6sDtaW2Cx",
        "outputId": "e12612d2-ef0c-4b69-d177-07016fe25240"
      },
      "source": [
        "# tensorflow\n",
        "results = []\n",
        "\n",
        "for name, model in models:\n",
        "    model.compile(loss='binary_crossentropy', optimizer='adam', metrics=['accuracy'])\n",
        "    model.fit(X_train, train_df['is_positive'], batch_size=32, epochs=10, validation_data=(X_test, test_df['is_positive']))\n",
        "    accuracy = model.evaluate(X_test, test_df['is_positive'])[1] * 100\n",
        "    results.append((name, accuracy))\n",
        "\n",
        "best_baseline6 = pd.DataFrame(results, columns = ['model','accuracy'])\n",
        "best_baseline6.sort_values('accuracy', ascending=False)"
      ],
      "execution_count": null,
      "outputs": [
        {
          "output_type": "stream",
          "text": [
            "Epoch 1/10\n",
            "782/782 [==============================] - 45s 57ms/step - loss: 0.6841 - accuracy: 0.5917 - val_loss: 0.6203 - val_accuracy: 0.7786\n",
            "Epoch 2/10\n",
            "782/782 [==============================] - 44s 56ms/step - loss: 0.5779 - accuracy: 0.7957 - val_loss: 0.5043 - val_accuracy: 0.7894\n",
            "Epoch 3/10\n",
            "782/782 [==============================] - 44s 56ms/step - loss: 0.4550 - accuracy: 0.8424 - val_loss: 0.4171 - val_accuracy: 0.8524\n",
            "Epoch 4/10\n",
            "782/782 [==============================] - 44s 56ms/step - loss: 0.3720 - accuracy: 0.8728 - val_loss: 0.3706 - val_accuracy: 0.8574\n",
            "Epoch 5/10\n",
            "782/782 [==============================] - 45s 58ms/step - loss: 0.3188 - accuracy: 0.8907 - val_loss: 0.3388 - val_accuracy: 0.8740\n",
            "Epoch 6/10\n",
            "782/782 [==============================] - 45s 58ms/step - loss: 0.2850 - accuracy: 0.8988 - val_loss: 0.3167 - val_accuracy: 0.8808\n",
            "Epoch 7/10\n",
            "782/782 [==============================] - 46s 59ms/step - loss: 0.2566 - accuracy: 0.9076 - val_loss: 0.3066 - val_accuracy: 0.8801\n",
            "Epoch 8/10\n",
            "782/782 [==============================] - 43s 55ms/step - loss: 0.2340 - accuracy: 0.9200 - val_loss: 0.2967 - val_accuracy: 0.8842\n",
            "Epoch 9/10\n",
            "782/782 [==============================] - 46s 58ms/step - loss: 0.2121 - accuracy: 0.9255 - val_loss: 0.2906 - val_accuracy: 0.8859\n",
            "Epoch 10/10\n",
            "782/782 [==============================] - 43s 55ms/step - loss: 0.1970 - accuracy: 0.9329 - val_loss: 0.2866 - val_accuracy: 0.8889\n",
            "782/782 [==============================] - 3s 4ms/step - loss: 0.2866 - accuracy: 0.8889\n"
          ],
          "name": "stdout"
        },
        {
          "output_type": "execute_result",
          "data": {
            "text/html": [
              "<div>\n",
              "<style scoped>\n",
              "    .dataframe tbody tr th:only-of-type {\n",
              "        vertical-align: middle;\n",
              "    }\n",
              "\n",
              "    .dataframe tbody tr th {\n",
              "        vertical-align: top;\n",
              "    }\n",
              "\n",
              "    .dataframe thead th {\n",
              "        text-align: right;\n",
              "    }\n",
              "</style>\n",
              "<table border=\"1\" class=\"dataframe\">\n",
              "  <thead>\n",
              "    <tr style=\"text-align: right;\">\n",
              "      <th></th>\n",
              "      <th>model</th>\n",
              "      <th>accuracy</th>\n",
              "    </tr>\n",
              "  </thead>\n",
              "  <tbody>\n",
              "    <tr>\n",
              "      <th>0</th>\n",
              "      <td>Net</td>\n",
              "      <td>88.888001</td>\n",
              "    </tr>\n",
              "  </tbody>\n",
              "</table>\n",
              "</div>"
            ],
            "text/plain": [
              "  model   accuracy\n",
              "0   Net  88.888001"
            ]
          },
          "metadata": {
            "tags": []
          },
          "execution_count": 31
        }
      ]
    },
    {
      "cell_type": "code",
      "metadata": {
        "colab": {
          "base_uri": "https://localhost:8080/",
          "height": 173
        },
        "id": "Xt81g5HLmtkO",
        "outputId": "838d1b69-4abb-4857-b42e-d3b9e1af4cf8"
      },
      "source": [
        "final_result2 = pd.concat([best_baseline4, best_baseline6], axis=0)\n",
        "final_result2.sort_values('accuracy', ascending=False)"
      ],
      "execution_count": null,
      "outputs": [
        {
          "output_type": "execute_result",
          "data": {
            "text/html": [
              "<div>\n",
              "<style scoped>\n",
              "    .dataframe tbody tr th:only-of-type {\n",
              "        vertical-align: middle;\n",
              "    }\n",
              "\n",
              "    .dataframe tbody tr th {\n",
              "        vertical-align: top;\n",
              "    }\n",
              "\n",
              "    .dataframe thead th {\n",
              "        text-align: right;\n",
              "    }\n",
              "</style>\n",
              "<table border=\"1\" class=\"dataframe\">\n",
              "  <thead>\n",
              "    <tr style=\"text-align: right;\">\n",
              "      <th></th>\n",
              "      <th>model</th>\n",
              "      <th>accuracy</th>\n",
              "    </tr>\n",
              "  </thead>\n",
              "  <tbody>\n",
              "    <tr>\n",
              "      <th>0</th>\n",
              "      <td>Net</td>\n",
              "      <td>88.888001</td>\n",
              "    </tr>\n",
              "    <tr>\n",
              "      <th>1</th>\n",
              "      <td>TfidfVectorizer</td>\n",
              "      <td>88.300000</td>\n",
              "    </tr>\n",
              "    <tr>\n",
              "      <th>0</th>\n",
              "      <td>CountVectorizer</td>\n",
              "      <td>86.300000</td>\n",
              "    </tr>\n",
              "    <tr>\n",
              "      <th>2</th>\n",
              "      <td>HashingVectorizer</td>\n",
              "      <td>86.120000</td>\n",
              "    </tr>\n",
              "  </tbody>\n",
              "</table>\n",
              "</div>"
            ],
            "text/plain": [
              "               model   accuracy\n",
              "0                Net  88.888001\n",
              "1    TfidfVectorizer  88.300000\n",
              "0    CountVectorizer  86.300000\n",
              "2  HashingVectorizer  86.120000"
            ]
          },
          "metadata": {
            "tags": []
          },
          "execution_count": 32
        }
      ]
    },
    {
      "cell_type": "code",
      "metadata": {
        "colab": {
          "base_uri": "https://localhost:8080/",
          "height": 388
        },
        "id": "DIu11DptZicZ",
        "outputId": "3b764834-4eab-4bd3-9865-49a917c86539"
      },
      "source": [
        "x = final_result2['model']\n",
        "y = final_result2['accuracy']\n",
        "\n",
        "fig, ax = plt.subplots(figsize=(10, 6))\n",
        "ax.barh(x, y)\n",
        "\n",
        "# Remove axes splines\n",
        "for s in ['top', 'bottom', 'left', 'right']:\n",
        "    ax.spines[s].set_visible(False)\n",
        "\n",
        "# Add x, y gridlines\n",
        "ax.grid(b=True, color='grey', linestyle='-.', linewidth=0.5, alpha=0.7)\n",
        "\n",
        "# Add annotation to bars\n",
        "for i in ax.patches:\n",
        "    plt.text(i.get_width()+0.01, i.get_y()+0.5,\n",
        "             str(round((i.get_width()), 2)),\n",
        "             fontsize=10, fontweight='bold',\n",
        "             color='grey')\n",
        "\n",
        "plt.xlabel('accuracy')\n",
        "plt.show()"
      ],
      "execution_count": null,
      "outputs": [
        {
          "output_type": "display_data",
          "data": {
            "image/png": "[encoded data removed]",
            "text/plain": [
              "<Figure size 720x432 with 1 Axes>"
            ]
          },
          "metadata": {
            "tags": [],
            "needs_background": "light"
          }
        }
      ]
    },
    {
      "cell_type": "code",
      "metadata": {
        "id": "pQ9hsgqOs-4H"
      },
      "source": [
        "final_results = pd.concat([final_result, final_result2], axis=1, \n",
        "                         keys=['baseline', 'pre-processing'])"
      ],
      "execution_count": null,
      "outputs": []
    },
    {
      "cell_type": "code",
      "metadata": {
        "colab": {
          "base_uri": "https://localhost:8080/",
          "height": 204
        },
        "id": "K_N3iO0ztcvy",
        "outputId": "bf633e75-9384-4efd-e262-1d4155e63f47"
      },
      "source": [
        "final_results"
      ],
      "execution_count": null,
      "outputs": [
        {
          "output_type": "execute_result",
          "data": {
            "text/html": [
              "<div>\n",
              "<style scoped>\n",
              "    .dataframe tbody tr th:only-of-type {\n",
              "        vertical-align: middle;\n",
              "    }\n",
              "\n",
              "    .dataframe tbody tr th {\n",
              "        vertical-align: top;\n",
              "    }\n",
              "\n",
              "    .dataframe thead tr th {\n",
              "        text-align: left;\n",
              "    }\n",
              "</style>\n",
              "<table border=\"1\" class=\"dataframe\">\n",
              "  <thead>\n",
              "    <tr>\n",
              "      <th></th>\n",
              "      <th colspan=\"2\" halign=\"left\">baseline</th>\n",
              "      <th colspan=\"2\" halign=\"left\">pre-processing</th>\n",
              "    </tr>\n",
              "    <tr>\n",
              "      <th></th>\n",
              "      <th>model</th>\n",
              "      <th>accuracy</th>\n",
              "      <th>model</th>\n",
              "      <th>accuracy</th>\n",
              "    </tr>\n",
              "  </thead>\n",
              "  <tbody>\n",
              "    <tr>\n",
              "      <th>0</th>\n",
              "      <td>CountVectorizer</td>\n",
              "      <td>86.310000</td>\n",
              "      <td>CountVectorizer</td>\n",
              "      <td>86.300000</td>\n",
              "    </tr>\n",
              "    <tr>\n",
              "      <th>1</th>\n",
              "      <td>TfidfVectorizer</td>\n",
              "      <td>88.320000</td>\n",
              "      <td>TfidfVectorizer</td>\n",
              "      <td>88.300000</td>\n",
              "    </tr>\n",
              "    <tr>\n",
              "      <th>2</th>\n",
              "      <td>HashingVectorizer</td>\n",
              "      <td>85.940000</td>\n",
              "      <td>HashingVectorizer</td>\n",
              "      <td>86.120000</td>\n",
              "    </tr>\n",
              "    <tr>\n",
              "      <th>0</th>\n",
              "      <td>Net</td>\n",
              "      <td>87.812001</td>\n",
              "      <td>Net</td>\n",
              "      <td>88.888001</td>\n",
              "    </tr>\n",
              "  </tbody>\n",
              "</table>\n",
              "</div>"
            ],
            "text/plain": [
              "            baseline                pre-processing           \n",
              "               model   accuracy              model   accuracy\n",
              "0    CountVectorizer  86.310000    CountVectorizer  86.300000\n",
              "1    TfidfVectorizer  88.320000    TfidfVectorizer  88.300000\n",
              "2  HashingVectorizer  85.940000  HashingVectorizer  86.120000\n",
              "0                Net  87.812001                Net  88.888001"
            ]
          },
          "metadata": {
            "tags": []
          },
          "execution_count": 35
        }
      ]
    },
    {
      "cell_type": "markdown",
      "metadata": {
        "id": "QOdoyXmVWnma"
      },
      "source": [
        "### 2. Проверьте повысилось ли качество на стандартных подходах при лемматизации"
      ]
    },
    {
      "cell_type": "code",
      "metadata": {
        "colab": {
          "base_uri": "https://localhost:8080/"
        },
        "id": "UXY596l-1_bW",
        "outputId": "711b7478-6a5f-484e-badb-4a96f28bdc52"
      },
      "source": [
        "nltk.download('punkt')\n",
        "from nltk.tokenize import word_tokenize\n",
        "\n",
        "train_df['lemmatized_review'] = train_df['review'].apply(lambda x : word_tokenize(x))\n",
        "test_df['lemmatized_review'] = test_df['review'].apply(lambda x : word_tokenize(x))"
      ],
      "execution_count": null,
      "outputs": [
        {
          "output_type": "stream",
          "text": [
            "[nltk_data] Downloading package punkt to /root/nltk_data...\n",
            "[nltk_data]   Package punkt is already up-to-date!\n"
          ],
          "name": "stdout"
        }
      ]
    },
    {
      "cell_type": "code",
      "metadata": {
        "colab": {
          "base_uri": "https://localhost:8080/"
        },
        "id": "YeDmCZXDyAKc",
        "outputId": "1f8eba74-145b-463f-ed46-ad0f9ead54cb"
      },
      "source": [
        "from nltk.stem import WordNetLemmatizer\n",
        "nltk.download('wordnet')\n",
        "from nltk.corpus import wordnet"
      ],
      "execution_count": null,
      "outputs": [
        {
          "output_type": "stream",
          "text": [
            "[nltk_data] Downloading package wordnet to /root/nltk_data...\n",
            "[nltk_data]   Package wordnet is already up-to-date!\n"
          ],
          "name": "stdout"
        }
      ]
    },
    {
      "cell_type": "code",
      "metadata": {
        "id": "SjTKCZtcxGur"
      },
      "source": [
        "lemmatizer = WordNetLemmatizer()\n",
        "train_df['lemmatized_review'] = train_df['lemmatized_review'].apply(lambda x : [lemmatizer.lemmatize(word, wordnet.VERB) for word in x])\n",
        "test_df['lemmatized_review'] = test_df['lemmatized_review'].apply(lambda x : [lemmatizer.lemmatize(word, wordnet.VERB) for word in x])"
      ],
      "execution_count": null,
      "outputs": []
    },
    {
      "cell_type": "code",
      "metadata": {
        "id": "Cg3RIjLLzjLv"
      },
      "source": [
        "train_df['lemmatized_review'] = np.array([' '.join(x) for x in train_df['lemmatized_review']])\n",
        "test_df['lemmatized_review'] = np.array([' '.join(x) for x in test_df['lemmatized_review']])"
      ],
      "execution_count": null,
      "outputs": []
    },
    {
      "cell_type": "code",
      "metadata": {
        "colab": {
          "base_uri": "https://localhost:8080/"
        },
        "id": "VXr30qLs1fGa",
        "outputId": "e589aff1-01e2-4ffd-ae73-4b3aceedb85f"
      },
      "source": [
        "train_df['lemmatized_review']"
      ],
      "execution_count": null,
      "outputs": [
        {
          "output_type": "execute_result",
          "data": {
            "text/plain": [
              "0        Dreamgirls , despite its fistful of Tony win i...\n",
              "1        This show come up with interest locations as f...\n",
              "2        I simply love this movie . I also love the Ram...\n",
              "3        Spoilers ahead if you want to call them that ....\n",
              "4        My all-time favorite movie ! I have see many m...\n",
              "                               ...                        \n",
              "24995    I be a big fan of the movie , but not for the ...\n",
              "24996    I 'm not go to bother with a plot synopsis sin...\n",
              "24997    This movie . . . I do n't know . Why they woul...\n",
              "24998    Saw this film on DVD yesterday and be gob-smac...\n",
              "24999    This be a disappointment - none of the nuance ...\n",
              "Name: lemmatized_review, Length: 25000, dtype: object"
            ]
          },
          "metadata": {
            "tags": []
          },
          "execution_count": 25
        }
      ]
    },
    {
      "cell_type": "code",
      "metadata": {
        "colab": {
          "base_uri": "https://localhost:8080/"
        },
        "id": "ddGDi8eJyOyl",
        "outputId": "efaa3612-55fa-49ad-9f04-be2aa90f4ef7"
      },
      "source": [
        "words_counter = Counter((word for text in train_df['lemmatized_review'] for word in text.lower().split()))\n",
        "word2idx = {'':0, '<unk>':1}\n",
        "\n",
        "for word, count in words_counter.most_common():\n",
        "    if count < 10:\n",
        "        break\n",
        "    word2idx[word] = len(word2idx)\n",
        "\n",
        "print('Words count', len(word2idx))\n",
        "\n",
        "X_train = convert(train_df['lemmatized_review'], word2idx, 1000)\n",
        "X_test = convert(test_df['lemmatized_review'], word2idx, 1000)"
      ],
      "execution_count": null,
      "outputs": [
        {
          "output_type": "stream",
          "text": [
            "Words count 18187\n"
          ],
          "name": "stdout"
        }
      ]
    },
    {
      "cell_type": "code",
      "metadata": {
        "id": "UT78aGnkZM7O"
      },
      "source": [
        "models = []\n",
        "\n",
        "models.append(('CountVectorizer', CountVectorizer()))\n",
        "models.append(('TfidfVectorizer', TfidfVectorizer()))\n",
        "models.append(('HashingVectorizer', HashingVectorizer()))"
      ],
      "execution_count": null,
      "outputs": []
    },
    {
      "cell_type": "code",
      "metadata": {
        "colab": {
          "base_uri": "https://localhost:8080/",
          "height": 142
        },
        "id": "wX87YQGuZPZZ",
        "outputId": "0b0bfd44-aed1-4f42-d419-a16ded6cd8c0"
      },
      "source": [
        "# Logistic Regression\n",
        "results = []\n",
        "\n",
        "for name, model in models:\n",
        "    net = Pipeline([\n",
        "        ('vectorizer', model),\n",
        "        ('classifier', LogisticRegression())\n",
        "    ])\n",
        "    net.fit(train_df['lemmatized_review'], train_df['is_positive'])\n",
        "    accuracy = eval_model(net, test_df)\n",
        "    results.append((name, accuracy))\n",
        "\n",
        "best_baseline7 = pd.DataFrame(results, columns = ['model','accuracy'])\n",
        "best_baseline7.sort_values('accuracy', ascending=False)"
      ],
      "execution_count": null,
      "outputs": [
        {
          "output_type": "execute_result",
          "data": {
            "text/html": [
              "<div>\n",
              "<style scoped>\n",
              "    .dataframe tbody tr th:only-of-type {\n",
              "        vertical-align: middle;\n",
              "    }\n",
              "\n",
              "    .dataframe tbody tr th {\n",
              "        vertical-align: top;\n",
              "    }\n",
              "\n",
              "    .dataframe thead th {\n",
              "        text-align: right;\n",
              "    }\n",
              "</style>\n",
              "<table border=\"1\" class=\"dataframe\">\n",
              "  <thead>\n",
              "    <tr style=\"text-align: right;\">\n",
              "      <th></th>\n",
              "      <th>model</th>\n",
              "      <th>accuracy</th>\n",
              "    </tr>\n",
              "  </thead>\n",
              "  <tbody>\n",
              "    <tr>\n",
              "      <th>1</th>\n",
              "      <td>TfidfVectorizer</td>\n",
              "      <td>87.08</td>\n",
              "    </tr>\n",
              "    <tr>\n",
              "      <th>0</th>\n",
              "      <td>CountVectorizer</td>\n",
              "      <td>83.35</td>\n",
              "    </tr>\n",
              "    <tr>\n",
              "      <th>2</th>\n",
              "      <td>HashingVectorizer</td>\n",
              "      <td>83.27</td>\n",
              "    </tr>\n",
              "  </tbody>\n",
              "</table>\n",
              "</div>"
            ],
            "text/plain": [
              "               model  accuracy\n",
              "1    TfidfVectorizer     87.08\n",
              "0    CountVectorizer     83.35\n",
              "2  HashingVectorizer     83.27"
            ]
          },
          "metadata": {
            "tags": []
          },
          "execution_count": 28
        }
      ]
    },
    {
      "cell_type": "code",
      "metadata": {
        "id": "xdBIXsJ3n0zq"
      },
      "source": [
        "# RandomForestClassifier\n",
        "results = []\n",
        "\n",
        "for name, model in models:\n",
        "    net = Pipeline([\n",
        "        ('vectorizer', model),\n",
        "        ('classifier', RandomForestClassifier())\n",
        "    ])\n",
        "    net.fit(train_df['lemmatized_review'], train_df['is_positive'])\n",
        "    accuracy = eval_model(net, test_df)\n",
        "    results.append((name, accuracy))\n",
        "\n",
        "best_baseline8 = pd.DataFrame(results, columns = ['model','accuracy'])\n",
        "best_baseline8.sort_values('accuracy', ascending=False)"
      ],
      "execution_count": null,
      "outputs": []
    },
    {
      "cell_type": "code",
      "metadata": {
        "id": "a5FGjSW2ZSrQ"
      },
      "source": [
        "models = []\n",
        "\n",
        "models.append(('Net', Sequential([layers.Embedding(input_dim=len(word2idx), output_dim=64, input_shape=(X_train.shape[1],)),\n",
        "    layers.Dropout(0.2),\n",
        "    layers.GlobalAveragePooling1D(),\n",
        "    layers.Dropout(0.2),\n",
        "    layers.Dense(units=1, activation='sigmoid')\n",
        "])))"
      ],
      "execution_count": null,
      "outputs": []
    },
    {
      "cell_type": "code",
      "metadata": {
        "id": "rRy0rKGPZUhm"
      },
      "source": [
        "# tensorflow\n",
        "results = []\n",
        "\n",
        "for name, model in models:\n",
        "    model.compile(loss='binary_crossentropy', optimizer='adam', metrics=['accuracy'])\n",
        "    model.fit(X_train, train_df['is_positive'], batch_size=32, epochs=10, validation_data=(X_test, test_df['is_positive']))\n",
        "    accuracy = model.evaluate(X_test, test_df['is_positive'])[1] * 100\n",
        "    results.append((name, accuracy))\n",
        "\n",
        "best_baseline9 = pd.DataFrame(results, columns = ['model','accuracy'])\n",
        "best_baseline9.sort_values('accuracy', ascending=False)"
      ],
      "execution_count": null,
      "outputs": []
    },
    {
      "cell_type": "code",
      "metadata": {
        "id": "nzYmWzxxn-q5"
      },
      "source": [
        "final_result3 = pd.concat([best_baseline7, best_baseline9], axis=0)\n",
        "final_result3.sort_values('accuracy', ascending=False)"
      ],
      "execution_count": null,
      "outputs": []
    },
    {
      "cell_type": "code",
      "metadata": {
        "id": "r2cGe7bRZYuS"
      },
      "source": [
        "x = final_result3['model']\n",
        "y = final_result3['accuracy']\n",
        "\n",
        "fig, ax = plt.subplots(figsize=(10, 6))\n",
        "ax.barh(x, y)\n",
        "\n",
        "# Remove axes splines\n",
        "for s in ['top', 'bottom', 'left', 'right']:\n",
        "    ax.spines[s].set_visible(False)\n",
        "\n",
        "# Add x, y gridlines\n",
        "ax.grid(b=True, color='grey', linestyle='-.', linewidth=0.5, alpha=0.7)\n",
        "\n",
        "# Add annotation to bars\n",
        "for i in ax.patches:\n",
        "    plt.text(i.get_width()+0.01, i.get_y()+0.5,\n",
        "             str(round((i.get_width()), 2)),\n",
        "             fontsize=10, fontweight='bold',\n",
        "             color='grey')\n",
        "\n",
        "plt.xlabel('accuracy')\n",
        "plt.show()"
      ],
      "execution_count": null,
      "outputs": []
    },
    {
      "cell_type": "code",
      "metadata": {
        "id": "UwXFWSUZtjQV"
      },
      "source": [
        "final_results = pd.concat([final_result, final_result2, final_result3], axis=1, \n",
        "                         keys=['baseline', 'pre-processing', 'lemmatize'])"
      ],
      "execution_count": null,
      "outputs": []
    },
    {
      "cell_type": "code",
      "metadata": {
        "id": "DB8IbDgEuAfD"
      },
      "source": [
        "final_results"
      ],
      "execution_count": null,
      "outputs": []
    },
    {
      "cell_type": "markdown",
      "metadata": {
        "id": "1140DoG6Wnma"
      },
      "source": [
        "### 3. Удалите из текстов какие-то из сущностей(не удалите а замените их тегом). Запустите классификатор."
      ]
    },
    {
      "cell_type": "code",
      "metadata": {
        "id": "GDiyCR_-nie_"
      },
      "source": [
        "for idx, text in enumerate(train_df['review']): # перебираем каждый текст в датасете\n",
        "    chunks = nltk.ne_chunk(nltk.pos_tag(nltk.word_tokenize(text)))\n",
        "    names = {' '.join(c[0] for c in chunk) for chunk in chunks if hasattr(chunk, 'label') and chunk.label() == 'PERSON'}\n",
        "    names = sorted(names, key=len, reverse=True)\n",
        "    for name in names:\n",
        "        train_df.loc[idx, 'review'] = re.sub(name, 'PERSON', text)"
      ],
      "execution_count": null,
      "outputs": []
    },
    {
      "cell_type": "code",
      "metadata": {
        "id": "28tbBaRrnk6s"
      },
      "source": [
        "for idx, text in enumerate(test_df['review']): # перебираем каждый текст в датасете\n",
        "    chunks = nltk.ne_chunk(nltk.pos_tag(nltk.word_tokenize(text)))\n",
        "    names = {' '.join(c[0] for c in chunk) for chunk in chunks if hasattr(chunk, 'label') and chunk.label() == 'PERSON'}\n",
        "    names = sorted(names, key=len, reverse=True)\n",
        "    for name in names:\n",
        "        try:\n",
        "            test_df.loc[idx, 'review'] = re.sub(name, 'PERSON', text)\n",
        "        except:\n",
        "            pass"
      ],
      "execution_count": null,
      "outputs": []
    },
    {
      "cell_type": "code",
      "metadata": {
        "id": "KdM_a8DLnqbO"
      },
      "source": [
        "models = []\n",
        "\n",
        "models.append(('CountVectorizer', CountVectorizer()))\n",
        "models.append(('TfidfVectorizer', TfidfVectorizer()))\n",
        "models.append(('HashingVectorizer', HashingVectorizer()))"
      ],
      "execution_count": null,
      "outputs": []
    },
    {
      "cell_type": "code",
      "metadata": {
        "id": "aGOdaJpynrL0"
      },
      "source": [
        "# Logistic Regression\n",
        "results = []\n",
        "\n",
        "for name, model in models:\n",
        "    net = Pipeline([\n",
        "        ('vectorizer', model),\n",
        "        ('classifier', LogisticRegression())\n",
        "    ])\n",
        "    net.fit(train_df['review'], train_df['is_positive'])\n",
        "    accuracy = eval_model(net, test_df)\n",
        "    results.append((name, accuracy))\n",
        "\n",
        "best_baseline10 = pd.DataFrame(results, columns = ['model','accuracy'])\n",
        "best_baseline10.sort_values('accuracy', ascending=False)"
      ],
      "execution_count": null,
      "outputs": []
    },
    {
      "cell_type": "code",
      "metadata": {
        "id": "gnmRQkQ1nyWO"
      },
      "source": [
        "# RandomForestClassifier\n",
        "results = []\n",
        "\n",
        "for name, model in models:\n",
        "    net = Pipeline([\n",
        "        ('vectorizer', model),\n",
        "        ('classifier', RandomForestClassifier())\n",
        "    ])\n",
        "    net.fit(train_df['review'], train_df['is_positive'])\n",
        "    accuracy = eval_model(net, test_df)\n",
        "    results.append((name, accuracy))\n",
        "\n",
        "best_baseline11 = pd.DataFrame(results, columns = ['model','accuracy'])\n",
        "best_baseline11.sort_values('accuracy', ascending=False)"
      ],
      "execution_count": null,
      "outputs": []
    },
    {
      "cell_type": "code",
      "metadata": {
        "id": "dA3KKnH9oDgm"
      },
      "source": [
        "models = []\n",
        "\n",
        "models.append(('Net', Sequential([layers.Embedding(input_dim=len(word2idx), output_dim=64, input_shape=(X_train.shape[1],)),\n",
        "    layers.Dropout(0.2),\n",
        "    layers.GlobalAveragePooling1D(),\n",
        "    layers.Dropout(0.2),\n",
        "    layers.Dense(units=1, activation='sigmoid')\n",
        "])))"
      ],
      "execution_count": null,
      "outputs": []
    },
    {
      "cell_type": "code",
      "metadata": {
        "id": "jXPfsY6HoFnc"
      },
      "source": [
        "# tensorflow\n",
        "results = []\n",
        "\n",
        "for name, model in models:\n",
        "    model.compile(loss='binary_crossentropy', optimizer='adam', metrics=['accuracy'])\n",
        "    model.fit(X_train, train_df['is_positive'], batch_size=32, epochs=10, validation_data=(X_test, test_df['is_positive']))\n",
        "    accuracy = model.evaluate(X_test, test_df['is_positive'])[1] * 100\n",
        "    results.append((name, accuracy))\n",
        "\n",
        "best_baseline12 = pd.DataFrame(results, columns = ['model','accuracy'])\n",
        "best_baseline12.sort_values('accuracy', ascending=False)"
      ],
      "execution_count": null,
      "outputs": []
    },
    {
      "cell_type": "code",
      "metadata": {
        "id": "buq3cDdtoIGE"
      },
      "source": [
        "final_result4 = pd.concat([best_baseline10, best_baseline12], axis=0)\n",
        "final_result4.sort_values('accuracy', ascending=False)"
      ],
      "execution_count": null,
      "outputs": []
    },
    {
      "cell_type": "code",
      "metadata": {
        "id": "X677kbMruCZl"
      },
      "source": [
        "final_results = pd.concat([final_result, final_result2, final_result3, final_result4], axis=1, \n",
        "                         keys=['baseline', 'pre-processing', 'lemmatize', 'tag'])"
      ],
      "execution_count": null,
      "outputs": []
    },
    {
      "cell_type": "code",
      "metadata": {
        "id": "f27ViUDJuOnW"
      },
      "source": [
        "final_results"
      ],
      "execution_count": null,
      "outputs": []
    },
    {
      "cell_type": "markdown",
      "metadata": {
        "id": "k2z00JkWWnma"
      },
      "source": [
        "### 4. Поэкспериментируйте с подходом с сеточками на разных данных (с удалёнными сущностями или без)"
      ]
    },
    {
      "cell_type": "code",
      "metadata": {
        "id": "SENIMd5rWnmb"
      },
      "source": [
        ""
      ],
      "execution_count": null,
      "outputs": []
    }
  ]
}